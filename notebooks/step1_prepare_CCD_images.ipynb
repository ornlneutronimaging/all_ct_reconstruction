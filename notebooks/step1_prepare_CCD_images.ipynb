{
 "cells": [
  {
   "cell_type": "code",
   "execution_count": 1,
   "id": "d537c2cb",
   "metadata": {
    "execution": {
     "iopub.execute_input": "2024-12-05T18:24:53.254626Z",
     "iopub.status.busy": "2024-12-05T18:24:53.254425Z",
     "iopub.status.idle": "2024-12-05T18:24:53.279596Z",
     "shell.execute_reply": "2024-12-05T18:24:53.279304Z",
     "shell.execute_reply.started": "2024-12-05T18:24:53.254610Z"
    }
   },
   "outputs": [
    {
     "data": {
      "text/html": [
       "\n",
       "<style type=\"text/css\">\n",
       ".jupyter-widgets select option {font-family: \"Lucida Console\", Monaco, monospace;}\n",
       ".jupyter-widgets select {width: 98%;}\n",
       "div.output_subarea {padding: 0px;}\n",
       "div.output_subarea > div {margin: 0.4em;}\n",
       "</style>\n"
      ],
      "text/plain": [
       "<IPython.core.display.HTML object>"
      ]
     },
     "metadata": {},
     "output_type": "display_data"
    },
    {
     "data": {
      "text/html": [
       "\n",
       "<style type=\"text/css\">\n",
       ".jupyter-widgets select option {font-family: \"Lucida Console\", Monaco, monospace;}\n",
       "div.output_subarea {padding: 0px;}\n",
       "div.output_subarea > div {margin: 0.4em;}\n",
       "</style>\n"
      ],
      "text/plain": [
       "<IPython.core.display.HTML object>"
      ]
     },
     "metadata": {},
     "output_type": "display_data"
    },
    {
     "data": {
      "text/html": [
       "\n",
       "                   <style>\n",
       "                   .result_label {\n",
       "                      font-style: bold;\n",
       "                      color: red;\n",
       "                      font-size: 18px;\n",
       "                   }\n",
       "                   </style>\n",
       "                   "
      ],
      "text/plain": [
       "<IPython.core.display.HTML object>"
      ]
     },
     "metadata": {},
     "output_type": "display_data"
    },
    {
     "data": {
      "application/vnd.jupyter.widget-view+json": {
       "model_id": "ff42bf728af0453f82c187b6668ea8ab",
       "version_major": 2,
       "version_minor": 0
      },
      "text/plain": [
       "VBox(children=(HBox(children=(Label(value='Select Instrument', layout=Layout(width='20%')), Select(layout=Layo…"
      ]
     },
     "metadata": {},
     "output_type": "display_data"
    },
    {
     "data": {
      "text/html": [
       "<style>\n",
       "\n",
       "/* The following CSS has been adapted from\n",
       "   http://nbviewer.ipython.org/github/ketch/teaching-numerics-with-notebooks/blob/master/Styling_notebooks.ipynb\n",
       "   by Aron Ahmadia and David Ketcheson and has been reused under CC BY 4.0\n",
       "   */\n",
       "\n",
       "/* main background */\n",
       "#site { \n",
       "    background: #888;\n",
       "    color: red; \n",
       "}\n",
       "\n",
       "div.container {\n",
       "    width: 100% ! important;\n",
       "}\n",
       "\n",
       "div.cell { /* set cell width to about 80 chars */\n",
       "    width: 95%;\n",
       "}\n",
       "\n",
       "div #notebook { /* centre the content */\n",
       "/*    background: #fff; /* white background for content */\n",
       "    background: blue;\n",
       "    width: 100%;\n",
       "    margin: auto;\n",
       "    padding-left: 1em;\n",
       "    padding-right: 1em;\n",
       "    background-image: url(\"tile_background.jpg\");\n",
       "}\n",
       "\n",
       "#notebook li { /* More space between bullet points */\n",
       "    margin-top:0.4em;\n",
       "}\n",
       "\n",
       "/* change background color of running cells */\n",
       "div.cell.code_cell.running {\n",
       "/*    background-color: rgba(164,188,194,.75); */\n",
       "    background-color: green;\n",
       "    border-width: 8px;\n",
       "    border-style: solid;\n",
       "    border-color: #111;\n",
       "}\n",
       "\n",
       "/* Put a solid color box around each cell and its output, visually linking them together */\n",
       "div.cell.code_cell {\n",
       "    background-color: rgba(164,188,194,.25); /* Continuum L Gray with alpha 0.25 */\n",
       "    border-radius: 10px; /* rounded borders */\n",
       "    padding: 1em;\n",
       "    margin-top: 1em;\n",
       "}\n",
       "\n",
       "div.text_cell_render{\n",
       "\tfont-family: Georgia, Times, 'Times New Roman', serif;\n",
       "    line-height: 110%;\n",
       "    font-size: 105%;\n",
       "    width: 95%;\n",
       "    margin-left: auto;\n",
       "    margin-right: auto;\n",
       "}\n",
       "\n",
       "\n",
       "/* Formatting for header cells */\n",
       ".text_cell_render h1 {\n",
       "\tfont-family: Arial, 'Helvetica Neue', Helvetica, sans-serif;\n",
       "    font-weight: 400;\n",
       "    font-size: 30pt;\n",
       "    line-height: 100%;\n",
       "    color: rgb(37,55,70); /* Continuum Blue*/\n",
       "    margin-bottom: 0.1em;\n",
       "    margin-top: 0.1em;\n",
       "    display: block;\n",
       "}\n",
       ".text_cell_render h2 {\n",
       "\tfont-family: Arial, 'Helvetica Neue', Helvetica, sans-serif;\n",
       "    font-weight: 700;\n",
       "    font-size: 22pt;\n",
       "    line-height: 100%;\n",
       "    color: rgb(37,55,70);\n",
       "    margin-bottom: 0.1em;\n",
       "    margin-top: 0.1em;\n",
       "    display: block;\n",
       "}\n",
       "\n",
       ".text_cell_render h3 {\n",
       "\tfont-family: Arial, 'Helvetica Neue', Helvetica, sans-serif;\n",
       "    margin-top:12px;\n",
       "    margin-bottom: 3px;\n",
       "    font-style: italic;\n",
       "    color: rgb(37, 55, 70);\n",
       "}\n",
       "\n",
       ".text_cell_render h4 {\n",
       "\tfont-family: Arial, 'Helvetica Neue', Helvetica, sans-serif;\n",
       "}\n",
       "\n",
       ".text_cell_render h5 {\n",
       "\tfont-family: Arial, 'Helvetica Neue', Helvetica, sans-serif;\n",
       "    font-weight: 300;\n",
       "    font-size: 14pt;\n",
       "    font-style: italic;\n",
       "    margin-bottom: .1em;\n",
       "    margin-top: 0.1em;\n",
       "    display: block;\n",
       "}\n",
       "\n",
       ".text_cell_render h6 {\n",
       "\tfont-family: Arial, 'Helvetica Neue', Helvetica, sans-serif;\n",
       "    font-weight: 300;\n",
       "    font-size: 10pt;\n",
       "    margin-bottom: 1px;\n",
       "    margin-top: 1px;\n",
       "}\n",
       "\n",
       ".CodeMirror{\n",
       "        font-family: \"PT Mono\", fixed;\n",
       "        font-size: 100%;\n",
       "}\n",
       "\n",
       "#notebook_panel { /* main background */\n",
       "    background-image: url(\"tile_background.jpg\");\n",
       "}\n",
       "</style>"
      ],
      "text/plain": [
       "<IPython.core.display.HTML object>"
      ]
     },
     "execution_count": 1,
     "metadata": {},
     "output_type": "execute_result"
    }
   ],
   "source": [
    "# this is using the hsnt kernel conda environment\n",
    "\n",
    "import warnings\n",
    "warnings.filterwarnings('ignore')\n",
    "\n",
    "%matplotlib inline\n",
    "\n",
    "from __code.step1_prepare_white_beam_mode_images import Step1PrepareWhiteBeamModeImages\n",
    "\n",
    "\n",
    "from __code import system\n",
    "\n",
    "system.System.select_working_dir(facility='SNS', instrument='VENUS', ipts='IPTS-33531')\n",
    "from __code.__all import custom_style\n",
    "custom_style.style()"
   ]
  },
  {
   "cell_type": "markdown",
   "id": "b9d745bd",
   "metadata": {},
   "source": [
    "# <font color='red'>Input sample folder</font>\n",
    "\n",
    "This folder will contains all the images (1 image per angle)\n",
    "\n",
    "<font color='blue'><b>Instructions</b>: select folder containing projections</font>"
   ]
  },
  {
   "cell_type": "code",
   "execution_count": 2,
   "id": "4521c25a",
   "metadata": {
    "execution": {
     "iopub.execute_input": "2024-12-05T18:26:23.445036Z",
     "iopub.status.busy": "2024-12-05T18:26:23.444820Z",
     "iopub.status.idle": "2024-12-05T18:26:23.452217Z",
     "shell.execute_reply": "2024-12-05T18:26:23.451790Z",
     "shell.execute_reply.started": "2024-12-05T18:26:23.445015Z"
    }
   },
   "outputs": [
    {
     "name": "stdout",
     "output_type": "stream",
     "text": [
      "logging file: /SNS/VENUS/shared/log/step1_prepare_white_beam_mode_images.log\n",
      "working_dir = '/SNS/VENUS/IPTS-33531'\n",
      "Top sample folder selected: /SNS/VENUS/IPTS-33531/shared/processed_data/truck_CT_data/\n"
     ]
    }
   ],
   "source": [
    "o_white_beam = Step1PrepareWhiteBeamModeImages(system=system)\n",
    "o_white_beam.select_top_sample_folder()"
   ]
  },
  {
   "cell_type": "markdown",
   "id": "5d532080",
   "metadata": {},
   "source": [
    "# <font color='red'>Input Open Beam (OB) folder</font>\n",
    "\n",
    "Select the images to use as OB\n",
    "\n",
    "<font color='blue'><b>Instructions</b>: select individual images</font>"
   ]
  },
  {
   "cell_type": "code",
   "execution_count": 3,
   "id": "51549f93",
   "metadata": {
    "execution": {
     "iopub.execute_input": "2024-12-05T18:26:24.310052Z",
     "iopub.status.busy": "2024-12-05T18:26:24.309775Z",
     "iopub.status.idle": "2024-12-05T18:26:24.313688Z",
     "shell.execute_reply": "2024-12-05T18:26:24.313307Z",
     "shell.execute_reply.started": "2024-12-05T18:26:24.310029Z"
    }
   },
   "outputs": [
    {
     "name": "stdout",
     "output_type": "stream",
     "text": [
      "top ob folder is: /SNS/VENUS/IPTS-33531/shared/processed_data/ob\n"
     ]
    }
   ],
   "source": [
    "o_white_beam.select_ob_images()"
   ]
  },
  {
   "cell_type": "markdown",
   "id": "de5a18df",
   "metadata": {},
   "source": [
    "# <font color='red'>Input Dark Current (DC) folder</font>\n",
    "\n",
    "Select the images to use as DC\n",
    "\n",
    "<font color='blue'><b>Instructions</b>: select individual images</font>"
   ]
  },
  {
   "cell_type": "code",
   "execution_count": 4,
   "id": "6cea9407",
   "metadata": {
    "execution": {
     "iopub.execute_input": "2024-12-05T18:26:24.688165Z",
     "iopub.status.busy": "2024-12-05T18:26:24.687923Z",
     "iopub.status.idle": "2024-12-05T18:26:24.690677Z",
     "shell.execute_reply": "2024-12-05T18:26:24.690342Z",
     "shell.execute_reply.started": "2024-12-05T18:26:24.688148Z"
    }
   },
   "outputs": [
    {
     "name": "stdout",
     "output_type": "stream",
     "text": [
      "top dc folder is: /SNS/VENUS/IPTS-33531/shared/processed_data/dc/45s\n"
     ]
    }
   ],
   "source": [
    "o_white_beam.select_dc_images()"
   ]
  },
  {
   "cell_type": "markdown",
   "id": "e2cd6952-7b00-42ff-ba57-ab86df6ace84",
   "metadata": {},
   "source": [
    "# <font color='red'>Define file naming schema</font>\n",
    "\n",
    "This is needed to extract the angle value from the images file name"
   ]
  },
  {
   "cell_type": "code",
   "execution_count": 5,
   "id": "ccadcdc2-56e0-4244-a805-6c9121094cde",
   "metadata": {
    "execution": {
     "iopub.execute_input": "2024-12-05T18:26:25.213788Z",
     "iopub.status.busy": "2024-12-05T18:26:25.213546Z",
     "iopub.status.idle": "2024-12-05T18:26:25.232567Z",
     "shell.execute_reply": "2024-12-05T18:26:25.232288Z",
     "shell.execute_reply.started": "2024-12-05T18:26:25.213770Z"
    }
   },
   "outputs": [
    {
     "data": {
      "application/vnd.jupyter.widget-view+json": {
       "model_id": "612faa25571a4eb784f1ada055f7dbbc",
       "version_major": 2,
       "version_minor": 0
      },
      "text/plain": [
       "HBox(children=(HTML(value='<b>File name:</b>'), Label(value='image_014_000_014.tiff')))"
      ]
     },
     "metadata": {},
     "output_type": "display_data"
    },
    {
     "data": {
      "application/vnd.jupyter.widget-view+json": {
       "model_id": "09f62e5db01e414cab62098cdb60378d",
       "version_major": 2,
       "version_minor": 0
      },
      "text/plain": [
       "HTML(value='<b>Check the 2 fields to use to determine the angle value (degree.minutes)!</b>')"
      ]
     },
     "metadata": {},
     "output_type": "display_data"
    },
    {
     "data": {
      "application/vnd.jupyter.widget-view+json": {
       "model_id": "0555d581273e4feca3ac786dc63b4343",
       "version_major": 2,
       "version_minor": 0
      },
      "text/plain": [
       "VBox(children=(Checkbox(value=False, description='image'), Checkbox(value=False, description='014'), Checkbox(…"
      ]
     },
     "metadata": {},
     "output_type": "display_data"
    },
    {
     "data": {
      "application/vnd.jupyter.widget-view+json": {
       "model_id": "cfc293e26c23452881b1472a25d90601",
       "version_major": 2,
       "version_minor": 0
      },
      "text/plain": [
       "HTML(value=\"<font color='red'><b>ERROR</b>: Select 2 and only 2 checkboxes!</font>\")"
      ]
     },
     "metadata": {},
     "output_type": "display_data"
    },
    {
     "data": {
      "application/vnd.jupyter.widget-view+json": {
       "model_id": "71cd23aacd6b447e9c97802d660f70e3",
       "version_major": 2,
       "version_minor": 0
      },
      "text/plain": [
       "HTML(value='<hr>')"
      ]
     },
     "metadata": {},
     "output_type": "display_data"
    },
    {
     "data": {
      "application/vnd.jupyter.widget-view+json": {
       "model_id": "5ac18947fa694b01b4f94101f4a0b9e2",
       "version_major": 2,
       "version_minor": 0
      },
      "text/plain": [
       "HBox(children=(Label(value='Angle value:'), Label(value='')))"
      ]
     },
     "metadata": {},
     "output_type": "display_data"
    }
   ],
   "source": [
    "o_white_beam.define_naming_schema()"
   ]
  },
  {
   "cell_type": "markdown",
   "id": "18872c74-db47-407c-8f85-62def1f98cce",
   "metadata": {},
   "source": [
    "# <font color='red'>Percentage of data to use </font>"
   ]
  },
  {
   "cell_type": "code",
   "execution_count": 6,
   "id": "f89c1640-7292-4852-8999-b9c4f946be50",
   "metadata": {
    "execution": {
     "iopub.execute_input": "2024-12-05T18:26:31.017244Z",
     "iopub.status.busy": "2024-12-05T18:26:31.016863Z",
     "iopub.status.idle": "2024-12-05T18:26:31.023081Z",
     "shell.execute_reply": "2024-12-05T18:26:31.022796Z",
     "shell.execute_reply.started": "2024-12-05T18:26:31.017213Z"
    }
   },
   "outputs": [
    {
     "data": {
      "application/vnd.jupyter.widget-view+json": {
       "model_id": "8ce3bdf3951844e7914938df39a0c2ef",
       "version_major": 2,
       "version_minor": 0
      },
      "text/plain": [
       "IntSlider(value=50, layout=Layout(width='100%'), min=1)"
      ]
     },
     "metadata": {},
     "output_type": "display_data"
    },
    {
     "data": {
      "application/vnd.jupyter.widget-view+json": {
       "model_id": "1f75f2c6d66d44279f2e3fce93b42266",
       "version_major": 2,
       "version_minor": 0
      },
      "text/plain": [
       "Label(value='90 images will be used for the reconstruction')"
      ]
     },
     "metadata": {},
     "output_type": "display_data"
    }
   ],
   "source": [
    "o_white_beam.select_percentage_of_data_to_use()"
   ]
  },
  {
   "cell_type": "markdown",
   "id": "107d1050",
   "metadata": {},
   "source": [
    "# <font color='red'>Load data</font>"
   ]
  },
  {
   "cell_type": "markdown",
   "id": "666d5d89",
   "metadata": {},
   "source": [
    "This cell will load the data.\n",
    "\n",
    "- <font color=blue><b>White beam</b></font>:\n",
    "This step will add all the counts within a given run, making it feel like the data were acquired in white beam mode, loosing the time-of-flight (TOF) information.\n",
    "\n",
    "This step will also sort the runs by increasing angle value."
   ]
  },
  {
   "cell_type": "code",
   "execution_count": 7,
   "id": "0eee229f",
   "metadata": {
    "execution": {
     "iopub.execute_input": "2024-12-05T18:26:40.714369Z",
     "iopub.status.busy": "2024-12-05T18:26:40.714157Z",
     "iopub.status.idle": "2024-12-05T18:26:56.119983Z",
     "shell.execute_reply": "2024-12-05T18:26:56.119499Z",
     "shell.execute_reply.started": "2024-12-05T18:26:40.714355Z"
    }
   },
   "outputs": [],
   "source": [
    "o_white_beam.load_data()"
   ]
  },
  {
   "cell_type": "markdown",
   "id": "c45e1943",
   "metadata": {},
   "source": [
    "<hr><hr style=\"border-bottom: dotted 1px;\" />\n",
    "<font color='purple' size='5'>Visualization</font><font color='purple' size='3'> - OPTIONAL</font>\n",
    "\n",
    "Select the mode you want to use:\n",
    " - all images <b>(this may take a long time to process !)</b>\n",
    " - visual verification of raw, ob and dc"
   ]
  },
  {
   "cell_type": "code",
   "execution_count": null,
   "id": "1203e3e8",
   "metadata": {},
   "outputs": [],
   "source": [
    "o_white_beam.how_to_visualize()"
   ]
  },
  {
   "cell_type": "code",
   "execution_count": null,
   "id": "7214a9cb",
   "metadata": {
    "execution": {
     "iopub.execute_input": "2024-12-05T17:25:26.713030Z",
     "iopub.status.busy": "2024-12-05T17:25:26.712796Z",
     "iopub.status.idle": "2024-12-05T17:25:44.813489Z",
     "shell.execute_reply": "2024-12-05T17:25:44.813012Z",
     "shell.execute_reply.started": "2024-12-05T17:25:26.713010Z"
    }
   },
   "outputs": [],
   "source": [
    "o_white_beam.visualize_raw_data()"
   ]
  },
  {
   "cell_type": "markdown",
   "id": "47700d7a",
   "metadata": {},
   "source": [
    "<hr style=\"height: 2px\" /><hr style=\"border-bottom: dotted 1px\" />\n",
    "<font color='purple' size='5'>Crop the raw data</font><font color='purple' size='3'> - OPTIONAL</font>"
   ]
  },
  {
   "cell_type": "code",
   "execution_count": null,
   "id": "68e059bb",
   "metadata": {},
   "outputs": [],
   "source": [
    "o_white_beam.pre_processing_crop_settings()"
   ]
  },
  {
   "cell_type": "markdown",
   "id": "9d9620cf",
   "metadata": {},
   "source": [
    "execute the cropping"
   ]
  },
  {
   "cell_type": "code",
   "execution_count": 9,
   "id": "282ef9a6",
   "metadata": {},
   "outputs": [],
   "source": [
    "o_white_beam.pre_processing_crop()"
   ]
  },
  {
   "cell_type": "markdown",
   "id": "1d97e3d0",
   "metadata": {},
   "source": [
    "<hr style=\"height: 2px\" /><hr style=\"border-bottom: dotted 1px\" />\n",
    "<font color='purple' size='5'>Remove outliers</font><font color='purple' size='3'> - OPTIONAL</font>"
   ]
  },
  {
   "cell_type": "markdown",
   "id": "df329504",
   "metadata": {},
   "source": [
    "Three algorithms are provided:\n",
    "\n",
    "* using `in-house` method with histogram (remove dead pixels, abnormal very high counts)\n",
    "* using Tomopy `remove_outlier` method (remove high intensity bright spots)\n",
    "* using Scipy `gamma_filter` method\n",
    "\n",
    "<font color='blue'><b>Instructions</b>: select the algorithms you want to use."
   ]
  },
  {
   "cell_type": "code",
   "execution_count": null,
   "id": "d6952c84",
   "metadata": {
    "execution": {
     "iopub.execute_input": "2024-12-05T18:27:24.140744Z",
     "iopub.status.busy": "2024-12-05T18:27:24.140513Z",
     "iopub.status.idle": "2024-12-05T18:27:24.146623Z",
     "shell.execute_reply": "2024-12-05T18:27:24.146340Z",
     "shell.execute_reply.started": "2024-12-05T18:27:24.140727Z"
    }
   },
   "outputs": [],
   "source": [
    "o_white_beam.clean_images_settings()"
   ]
  },
  {
   "cell_type": "markdown",
   "id": "0b4bdb84",
   "metadata": {},
   "source": [
    "The next cell will be ignored if you didn't select <b>histogram</b>. \n",
    "\n",
    "<font color='blue'><b>Instructions</b>: if using the <b>histogram</b> algorithm, by default, all the pixels found in the first and last bin are considered as **bad** pixels. You have the option to change those settings. </font>"
   ]
  },
  {
   "cell_type": "code",
   "execution_count": null,
   "id": "66e1f723",
   "metadata": {
    "execution": {
     "iopub.execute_input": "2024-12-05T18:27:31.754478Z",
     "iopub.status.busy": "2024-12-05T18:27:31.754254Z",
     "iopub.status.idle": "2024-12-05T18:27:31.756697Z",
     "shell.execute_reply": "2024-12-05T18:27:31.756390Z",
     "shell.execute_reply.started": "2024-12-05T18:27:31.754463Z"
    }
   },
   "outputs": [],
   "source": [
    "o_white_beam.clean_images_setup()"
   ]
  },
  {
   "cell_type": "markdown",
   "id": "9729952c",
   "metadata": {},
   "source": [
    "Launch the cleaning"
   ]
  },
  {
   "cell_type": "code",
   "execution_count": 10,
   "id": "694507be",
   "metadata": {
    "execution": {
     "iopub.execute_input": "2024-12-05T18:27:33.576092Z",
     "iopub.status.busy": "2024-12-05T18:27:33.575897Z",
     "iopub.status.idle": "2024-12-05T18:29:44.246990Z",
     "shell.execute_reply": "2024-12-05T18:29:44.246646Z",
     "shell.execute_reply.started": "2024-12-05T18:27:33.576077Z"
    }
   },
   "outputs": [],
   "source": [
    "o_white_beam.clean_images()"
   ]
  },
  {
   "cell_type": "markdown",
   "id": "cfe260fd",
   "metadata": {},
   "source": [
    "<hr><hr style=\"border-bottom: dotted 1px;\" />\n",
    "<font color='purple' size='5'>Visualization</font><font color='purple' size='3'> - OPTIONAL</font>\n",
    "\n",
    "Select the mode you want to use:\n",
    " - all images <b>(this may take a long time to process !)</b>\n",
    " - visual verification of raw, ob and dc"
   ]
  },
  {
   "cell_type": "markdown",
   "id": "7b4cf410",
   "metadata": {},
   "source": [
    "### How do you want to visualize the cleaned data?"
   ]
  },
  {
   "cell_type": "code",
   "execution_count": null,
   "id": "47942a96",
   "metadata": {},
   "outputs": [],
   "source": [
    "o_white_beam.how_to_visualize_after_cleaning()"
   ]
  },
  {
   "cell_type": "markdown",
   "id": "df0a33bf",
   "metadata": {},
   "source": [
    "Launch the visualization"
   ]
  },
  {
   "cell_type": "code",
   "execution_count": null,
   "id": "9185e09d",
   "metadata": {},
   "outputs": [],
   "source": [
    "o_white_beam.visualize_cleaned_data()"
   ]
  },
  {
   "cell_type": "markdown",
   "id": "7447be6f",
   "metadata": {},
   "source": [
    "<hr style=\"height: 2px\" /><hr style=\"border-bottom: dotted 1px\" />\n",
    "<font color='purple' size='5'>Rebin pixels</font><font color='purple' size='3'> - OPTIONAL</font>"
   ]
  },
  {
   "cell_type": "markdown",
   "id": "cc0a87cd",
   "metadata": {},
   "source": [
    "Under Construction"
   ]
  },
  {
   "cell_type": "markdown",
   "id": "ea14a6e5-5921-4ddc-97a4-6b5411e14d0d",
   "metadata": {
    "execution": {
     "iopub.execute_input": "2024-09-25T16:48:21.997748Z",
     "iopub.status.busy": "2024-09-25T16:48:21.997353Z",
     "iopub.status.idle": "2024-09-25T16:48:21.999893Z",
     "shell.execute_reply": "2024-09-25T16:48:21.999578Z",
     "shell.execute_reply.started": "2024-09-25T16:48:21.997731Z"
    }
   },
   "source": [
    "<hr style=\"border-bottom: dotted 1px;\" />\n",
    "<hr style=\"height: 2px\" />\n",
    "\n",
    "# <font color='red'>Normalization</font>\n"
   ]
  },
  {
   "cell_type": "markdown",
   "id": "622bc51f",
   "metadata": {},
   "source": [
    "<font color='blue'><b>Instructions</b>: in order to improve the normalization, you can turn ON/OFF any of the following \n",
    "\n",
    "- <font color=red><b>use proton charge</b></font>: that option will use the proton charge value requested for each runs and open beams and will bring them to the same value by applying a coefficient corector to the data.\n",
    "- <font color=red><b>use background region of interest (ROI)</b></font>: select a region that does not contain any part of the sample in order to match the counts with the same ROI of the open beam.</font>"
   ]
  },
  {
   "cell_type": "code",
   "execution_count": 8,
   "id": "7b613711",
   "metadata": {
    "execution": {
     "iopub.execute_input": "2024-12-05T18:31:19.084233Z",
     "iopub.status.busy": "2024-12-05T18:31:19.084004Z",
     "iopub.status.idle": "2024-12-05T18:31:19.089704Z",
     "shell.execute_reply": "2024-12-05T18:31:19.089431Z",
     "shell.execute_reply.started": "2024-12-05T18:31:19.084217Z"
    }
   },
   "outputs": [
    {
     "data": {
      "application/vnd.jupyter.widget-view+json": {
       "model_id": "be040fd3403149198ba4b6ebb4545dd1",
       "version_major": 2,
       "version_minor": 0
      },
      "text/plain": [
       "VBox(children=(Checkbox(value=False, description='Use proton charge', disabled=True), Checkbox(value=True, des…"
      ]
     },
     "metadata": {},
     "output_type": "display_data"
    }
   ],
   "source": [
    "o_white_beam.normalization_settings()"
   ]
  },
  {
   "cell_type": "markdown",
   "id": "6af1d90a",
   "metadata": {},
   "source": [
    "This next cell will allow you to select the background region within the projections images, or will just be ignored if you not chose to use it.\n",
    "\n",
    "<font color='blue'><b>Instructions</b>: define ROI\n",
    "\n",
    "Make sure you select a region <font color='red'> OUTSIDE</font> of your sample\n",
    "\n",
    "<img src=\"__code/__all/demo_of_roi_selection.gif\" width=\"50%\" />\n",
    "\n",
    "NB: The next cell will be ignored if you didn't select <b>Use ROI</b>"
   ]
  },
  {
   "cell_type": "code",
   "execution_count": 9,
   "id": "f57796df",
   "metadata": {
    "execution": {
     "iopub.execute_input": "2024-12-05T18:31:21.447046Z",
     "iopub.status.busy": "2024-12-05T18:31:21.446834Z",
     "iopub.status.idle": "2024-12-05T18:31:23.360770Z",
     "shell.execute_reply": "2024-12-05T18:31:23.360456Z",
     "shell.execute_reply.started": "2024-12-05T18:31:21.447031Z"
    }
   },
   "outputs": [],
   "source": [
    "o_white_beam.normalization_select_roi()"
   ]
  },
  {
   "cell_type": "markdown",
   "id": "c4221eb9",
   "metadata": {},
   "source": [
    "This cell will perform the normalization using any of the settings you define just above."
   ]
  },
  {
   "cell_type": "code",
   "execution_count": 10,
   "id": "48c201d4",
   "metadata": {
    "execution": {
     "iopub.execute_input": "2024-12-05T18:31:49.805463Z",
     "iopub.status.busy": "2024-12-05T18:31:49.805141Z",
     "iopub.status.idle": "2024-12-05T18:32:00.902439Z",
     "shell.execute_reply": "2024-12-05T18:32:00.901994Z",
     "shell.execute_reply.started": "2024-12-05T18:31:49.805448Z"
    }
   },
   "outputs": [],
   "source": [
    "o_white_beam.normalization()"
   ]
  },
  {
   "cell_type": "markdown",
   "id": "97bf27d7",
   "metadata": {},
   "source": [
    "<hr style=\"height: 2px\" /><hr style=\"border-bottom: dotted 1px\" />\n",
    "<font color='purple' size='5'>Visualize normalized data</font><font color='purple' size='3'> - OPTIONAL</font>"
   ]
  },
  {
   "cell_type": "code",
   "execution_count": null,
   "id": "47d0df72",
   "metadata": {},
   "outputs": [],
   "source": [
    "o_white_beam.visualization_normalization_settings()"
   ]
  },
  {
   "cell_type": "code",
   "execution_count": null,
   "id": "13d7ca09",
   "metadata": {},
   "outputs": [],
   "source": [
    "o_white_beam.visualize_normalization()"
   ]
  },
  {
   "cell_type": "markdown",
   "id": "f3a39bda",
   "metadata": {},
   "source": [
    "<hr style=\"height: 2px\" /><hr style=\"border-bottom: dotted 1px\" />\n",
    "<font color='purple' size='5'>Export the normalized data</font><font color='purple' size='3'> - OPTIONAL</font>\n"
   ]
  },
  {
   "cell_type": "markdown",
   "id": "27baf325",
   "metadata": {},
   "source": [
    "Select the folder where to export the normalized images\n"
   ]
  },
  {
   "cell_type": "code",
   "execution_count": null,
   "id": "6fba499f",
   "metadata": {},
   "outputs": [],
   "source": [
    "o_white_beam.select_export_normalized_folder()"
   ]
  },
  {
   "cell_type": "markdown",
   "id": "e4a87503",
   "metadata": {},
   "source": [
    "Run this cell to execute the export of the normalized images\n"
   ]
  },
  {
   "cell_type": "code",
   "execution_count": null,
   "id": "a5b28e20",
   "metadata": {},
   "outputs": [],
   "source": [
    "o_white_beam.export_normalized_images()"
   ]
  },
  {
   "cell_type": "markdown",
   "id": "091b83d3",
   "metadata": {},
   "source": [
    "<hr style=\"height: 2px\" /><hr style=\"border-bottom: dotted 1px\" />\n",
    "<font color='purple' size='5'>Crop the data</font><font color='purple' size='3'> - OPTIONAL</font>"
   ]
  },
  {
   "cell_type": "code",
   "execution_count": null,
   "id": "4747fdeb",
   "metadata": {},
   "outputs": [],
   "source": [
    "o_white_beam.crop_settings()"
   ]
  },
  {
   "cell_type": "markdown",
   "id": "6ff8fa92",
   "metadata": {},
   "source": [
    "execute the cropping"
   ]
  },
  {
   "cell_type": "code",
   "execution_count": 15,
   "id": "ee5bda99",
   "metadata": {},
   "outputs": [],
   "source": [
    "o_white_beam.crop()"
   ]
  },
  {
   "cell_type": "markdown",
   "id": "148220ee",
   "metadata": {},
   "source": [
    "<hr style=\"height: 2px\" /><hr style=\"border-bottom: dotted 1px\" />\n",
    "<font color='purple' size='5'>Rotate the data</font><font color='purple' size='3'> - OPTIONAL</font>\n",
    "\n",
    "<font color='blue'>The reconstruction algorithm will ONLY work if the rotation axis is VERTICAL</font>!\n",
    "\n",
    "select the angle to use"
   ]
  },
  {
   "cell_type": "code",
   "execution_count": null,
   "id": "fb6ea64c",
   "metadata": {},
   "outputs": [],
   "source": [
    "o_white_beam.rotate_data_settings()"
   ]
  },
  {
   "cell_type": "markdown",
   "id": "2e94264c",
   "metadata": {},
   "source": [
    "Run to perform the transformation by the angle specified"
   ]
  },
  {
   "cell_type": "code",
   "execution_count": 15,
   "id": "465287f8",
   "metadata": {},
   "outputs": [],
   "source": [
    "o_white_beam.apply_rotation()"
   ]
  },
  {
   "cell_type": "markdown",
   "id": "a5a7c6cc",
   "metadata": {},
   "source": [
    "Vizualize the images after rotation - OPTIONAL"
   ]
  },
  {
   "cell_type": "code",
   "execution_count": null,
   "id": "94d9eb0a",
   "metadata": {},
   "outputs": [],
   "source": [
    "o_white_beam.visualize_after_rotation()"
   ]
  },
  {
   "cell_type": "markdown",
   "id": "12470d0e",
   "metadata": {},
   "source": [
    "<hr style=\"border-bottom: dotted 1px;\" />\n",
    "<hr style=\"height: 2px\" />\n",
    "\n",
    "# <font color='red'>Minus log conversion</font>"
   ]
  },
  {
   "cell_type": "code",
   "execution_count": 11,
   "id": "f5f16a3f",
   "metadata": {},
   "outputs": [],
   "source": [
    "o_white_beam.log_conversion_and_cleaning()"
   ]
  },
  {
   "cell_type": "markdown",
   "id": "19228636",
   "metadata": {},
   "source": [
    "<hr><hr style=\"border-bottom: dotted 1px;\" />\n",
    "<font color='purple' size='5'>Visualization</font><font color='purple' size='3'> - OPTIONAL</font>\n"
   ]
  },
  {
   "cell_type": "code",
   "execution_count": null,
   "id": "37db0c00",
   "metadata": {},
   "outputs": [],
   "source": [
    "o_white_beam.visualize_images_after_log()"
   ]
  },
  {
   "cell_type": "markdown",
   "id": "8040c325",
   "metadata": {},
   "source": [
    "<hr style=\"border-bottom: dotted 1px;\" />\n",
    "<hr style=\"height: 2px\" />\n",
    "\n",
    "# <font color='red'>Create sinograms</font>"
   ]
  },
  {
   "cell_type": "code",
   "execution_count": 12,
   "id": "b12dde76",
   "metadata": {},
   "outputs": [],
   "source": [
    "# o_white_beam.create_sinograms()"
   ]
  },
  {
   "cell_type": "markdown",
   "id": "c45bf3dd",
   "metadata": {},
   "source": [
    "<hr><hr style=\"border-bottom: dotted 1px;\" />\n",
    "<font color='purple' size='5'>Visualization</font><font color='purple' size='3'> - OPTIONAL</font>\n"
   ]
  },
  {
   "cell_type": "code",
   "execution_count": null,
   "id": "953db313",
   "metadata": {},
   "outputs": [],
   "source": [
    "o_white_beam.visualize_sinograms()"
   ]
  },
  {
   "cell_type": "markdown",
   "id": "739a9355",
   "metadata": {},
   "source": [
    "<hr style=\"height: 2px\" /><hr style=\"border-bottom: dotted 1px\" />\n",
    "<font color='purple' size='5'>Remove stripes</font><font color='purple' size='3'> - OPTIONAL</font>\n",
    "\n",
    "Run if you want to remove any stripes causing ring artifacs in the reconstruction"
   ]
  },
  {
   "cell_type": "code",
   "execution_count": null,
   "id": "e6432b5b",
   "metadata": {
    "execution": {
     "iopub.execute_input": "2024-12-05T18:32:11.038341Z",
     "iopub.status.busy": "2024-12-05T18:32:11.038103Z",
     "iopub.status.idle": "2024-12-05T18:32:11.051493Z",
     "shell.execute_reply": "2024-12-05T18:32:11.051169Z",
     "shell.execute_reply.started": "2024-12-05T18:32:11.038317Z"
    }
   },
   "outputs": [],
   "source": [
    "o_white_beam.select_remove_strips_algorithms()"
   ]
  },
  {
   "cell_type": "markdown",
   "id": "0a76a268",
   "metadata": {},
   "source": [
    "Define the settings for the algorithms you chose in the previous cell"
   ]
  },
  {
   "cell_type": "code",
   "execution_count": null,
   "id": "081d0e6b",
   "metadata": {
    "execution": {
     "iopub.execute_input": "2024-12-05T18:32:12.502287Z",
     "iopub.status.busy": "2024-12-05T18:32:12.502081Z",
     "iopub.status.idle": "2024-12-05T18:32:12.506112Z",
     "shell.execute_reply": "2024-12-05T18:32:12.505808Z",
     "shell.execute_reply.started": "2024-12-05T18:32:12.502271Z"
    }
   },
   "outputs": [],
   "source": [
    "o_white_beam.define_settings()"
   ]
  },
  {
   "cell_type": "markdown",
   "id": "99f84eb5",
   "metadata": {},
   "source": [
    "perform the cleaning"
   ]
  },
  {
   "cell_type": "code",
   "execution_count": null,
   "id": "75d3d677",
   "metadata": {
    "execution": {
     "iopub.execute_input": "2024-12-05T18:32:12.902879Z",
     "iopub.status.busy": "2024-12-05T18:32:12.902644Z",
     "iopub.status.idle": "2024-12-05T18:33:06.620878Z",
     "shell.execute_reply": "2024-12-05T18:33:06.620448Z",
     "shell.execute_reply.started": "2024-12-05T18:32:12.902865Z"
    }
   },
   "outputs": [],
   "source": [
    "o_white_beam.remove_strips()"
   ]
  },
  {
   "cell_type": "markdown",
   "id": "e023f08d",
   "metadata": {},
   "source": [
    "Display the data after removing the strips - OPTIONAL"
   ]
  },
  {
   "cell_type": "code",
   "execution_count": null,
   "id": "49eb26b7",
   "metadata": {},
   "outputs": [],
   "source": [
    "o_white_beam.display_removed_strips()"
   ]
  },
  {
   "cell_type": "markdown",
   "id": "51a27fed-4720-4e52-aa1a-6dbc8995ee46",
   "metadata": {
    "execution": {
     "iopub.execute_input": "2024-09-25T16:48:35.218331Z",
     "iopub.status.busy": "2024-09-25T16:48:35.218025Z",
     "iopub.status.idle": "2024-09-25T16:48:35.220484Z",
     "shell.execute_reply": "2024-09-25T16:48:35.220124Z",
     "shell.execute_reply.started": "2024-09-25T16:48:35.218314Z"
    }
   },
   "source": [
    "<hr style=\"height: 2px\" /><hr style=\"border-bottom: dotted 1px\" />\n",
    "<font color='purple' size='5'>Calculate and apply tilt correction</font><font color='purple' size='3'> - OPTIONAL</font>\n",
    "\n",
    "The algorithm will determine the 0 and 180 degrees runs and use those to calculate the <b>tilt</b> then apply it on the volume.\n",
    "<br><br>\n",
    "\n",
    "<font color='blue'><b>Instructions</b>: first, you need to select an vertical range contaning the sample\n",
    "\n",
    "<font color='blue'>TIPS</font> - Make sure the sample is within the range defined\n",
    "\n",
    "<font size=1 color='red'><u>Developer Notes</u>: this step will create the 3d array <i>corrected_images</i>"
   ]
  },
  {
   "cell_type": "code",
   "execution_count": null,
   "id": "25b6a401",
   "metadata": {
    "execution": {
     "iopub.execute_input": "2024-12-05T18:33:36.517562Z",
     "iopub.status.busy": "2024-12-05T18:33:36.516753Z",
     "iopub.status.idle": "2024-12-05T18:33:38.865474Z",
     "shell.execute_reply": "2024-12-05T18:33:38.865168Z",
     "shell.execute_reply.started": "2024-12-05T18:33:36.517542Z"
    }
   },
   "outputs": [],
   "source": [
    "o_white_beam.select_sample_roi()"
   ]
  },
  {
   "cell_type": "markdown",
   "id": "9f285ab8",
   "metadata": {},
   "source": [
    "Perform the calculation of the tilt and apply it"
   ]
  },
  {
   "cell_type": "code",
   "execution_count": null,
   "id": "79a80bed",
   "metadata": {},
   "outputs": [],
   "source": [
    "o_white_beam.perform_tilt_correction()"
   ]
  },
  {
   "cell_type": "markdown",
   "id": "53226d74",
   "metadata": {},
   "source": [
    "<hr style=\"height: 2px\" /><hr style=\"border-bottom: dotted 1px\" />\n",
    "<font color='purple' size='5'>Calculate center of rotation</font><font color='purple' size='3'> - OPTIONAL</font>\n",
    "\n",
    "The algorithm will determine the 0 and 180 degrees runs and use those to calculate the <b>center of rotation</b> "
   ]
  },
  {
   "cell_type": "code",
   "execution_count": 13,
   "id": "398a4e94",
   "metadata": {},
   "outputs": [
    {
     "data": {
      "application/vnd.jupyter.widget-view+json": {
       "model_id": "ba3084e1081e4837af895673979b18f4",
       "version_major": 2,
       "version_minor": 0
      },
      "text/plain": [
       "RadioButtons(options=('Automatic', 'Manual'), value='Automatic')"
      ]
     },
     "metadata": {},
     "output_type": "display_data"
    }
   ],
   "source": [
    "o_white_beam.center_of_rotation_settings()"
   ]
  },
  {
   "cell_type": "markdown",
   "id": "a8ea1bdf",
   "metadata": {},
   "source": [
    "Select the mode you want to use to calculate the **center of rotation**\n",
    "\n",
    "* **automatic mode** will use the [algotom](https://algotom.github.io) library\n",
    "* **manual mode** will let you figure out the center of rotation\n",
    "\n",
    "<font color=red>NB</font>: if you selected **automatic mode**, first, you will need to select the 180 or 360 degrees mode to use to estimate the center of rotation."
   ]
  },
  {
   "cell_type": "code",
   "execution_count": 14,
   "id": "cdad4572",
   "metadata": {},
   "outputs": [
    {
     "data": {
      "application/vnd.jupyter.widget-view+json": {
       "model_id": "3a5607a1a3c4473698c383393e2d39e7",
       "version_major": 2,
       "version_minor": 0
      },
      "text/plain": [
       "HTML(value='Select the slice to use to calculate the center of rotation')"
      ]
     },
     "metadata": {},
     "output_type": "display_data"
    },
    {
     "data": {
      "application/vnd.jupyter.widget-view+json": {
       "model_id": "b111d0a633ad47b5b73743f2f0d2ff2b",
       "version_major": 2,
       "version_minor": 0
      },
      "text/plain": [
       "interactive(children=(IntSlider(value=3211, description='slice_value', max=6421), Output()), _dom_classes=('wi…"
      ]
     },
     "metadata": {},
     "output_type": "display_data"
    },
    {
     "data": {
      "application/vnd.jupyter.widget-view+json": {
       "model_id": "24d5fb63063b4508a12b75ae5c6a2217",
       "version_major": 2,
       "version_minor": 0
      },
      "text/plain": [
       "HTML(value='Horizontal line shows the slide used to calculate the center of rotation')"
      ]
     },
     "metadata": {},
     "output_type": "display_data"
    },
    {
     "data": {
      "application/vnd.jupyter.widget-view+json": {
       "model_id": "2ef09e854250434a9913d6c83360d166",
       "version_major": 2,
       "version_minor": 0
      },
      "text/plain": [
       "HTML(value='<hr>')"
      ]
     },
     "metadata": {},
     "output_type": "display_data"
    },
    {
     "data": {
      "application/vnd.jupyter.widget-view+json": {
       "model_id": "ae77310104fc4489b54d368728a8d600",
       "version_major": 2,
       "version_minor": 0
      },
      "text/plain": [
       "HTML(value='Do you want to use all the data from 0 to 180, or 0 to 360 degrees to calculate the center of rota…"
      ]
     },
     "metadata": {},
     "output_type": "display_data"
    },
    {
     "data": {
      "application/vnd.jupyter.widget-view+json": {
       "model_id": "1969bf1f57d24048a561b2f3b68dfb41",
       "version_major": 2,
       "version_minor": 0
      },
      "text/plain": [
       "RadioButtons(options=('180 degree', '360 degree'), value='180 degree')"
      ]
     },
     "metadata": {},
     "output_type": "display_data"
    }
   ],
   "source": [
    "o_white_beam.run_center_of_rotation()"
   ]
  },
  {
   "cell_type": "code",
   "execution_count": 16,
   "id": "394d6234",
   "metadata": {},
   "outputs": [
    {
     "name": "stdout",
     "output_type": "stream",
     "text": [
      "in calculate_center_of_rotation_using_algotom\n",
      "self.auto_mode_ui.value = 'Automatic'\n"
     ]
    },
    {
     "ename": "ValueError",
     "evalue": "array must not contain infs or NaNs",
     "output_type": "error",
     "traceback": [
      "\u001b[0;31m---------------------------------------------------------------------------\u001b[0m",
      "\u001b[0;31m_RemoteTraceback\u001b[0m                          Traceback (most recent call last)",
      "\u001b[0;31m_RemoteTraceback\u001b[0m: \n\"\"\"\nTraceback (most recent call last):\n  File \"/SNS/users/j35/.local/lib/python3.9/site-packages/joblib/_utils.py\", line 72, in __call__\n    return self.func(**kwargs)\n  File \"/SNS/users/j35/.local/lib/python3.9/site-packages/joblib/parallel.py\", line 598, in __call__\n    return [func(*args, **kwargs)\n  File \"/SNS/users/j35/.local/lib/python3.9/site-packages/joblib/parallel.py\", line 598, in <listcomp>\n    return [func(*args, **kwargs)\n  File \"/SNS/users/j35/.conda/envs/hsnt/lib/python3.9/site-packages/algotom/prep/calculation.py\", line 447, in __calc_overlap_metric\n    metric_val = correlation_metric(mat1_roi, mat2_roi)\n  File \"/SNS/users/j35/.conda/envs/hsnt/lib/python3.9/site-packages/algotom/prep/calculation.py\", line 421, in correlation_metric\n    1.0 - stats.pearsonr(mat1.flatten('F'), mat2.flatten('F'))[0])\n  File \"/SNS/users/j35/.local/lib/python3.9/site-packages/scipy/stats/_stats_py.py\", line 4793, in pearsonr\n    normxm = linalg.norm(xm)\n  File \"/SNS/users/j35/.local/lib/python3.9/site-packages/scipy/linalg/_misc.py\", line 146, in norm\n    a = np.asarray_chkfinite(a)\n  File \"/SNS/users/j35/.conda/envs/hsnt/lib/python3.9/site-packages/numpy/lib/function_base.py\", line 603, in asarray_chkfinite\n    raise ValueError(\nValueError: array must not contain infs or NaNs\n\"\"\"",
      "\nThe above exception was the direct cause of the following exception:\n",
      "\u001b[0;31mValueError\u001b[0m                                Traceback (most recent call last)",
      "Cell \u001b[0;32mIn[16], line 1\u001b[0m\n\u001b[0;32m----> 1\u001b[0m \u001b[43mo_white_beam\u001b[49m\u001b[38;5;241;43m.\u001b[39;49m\u001b[43mperform_calculation_of_center_of_rotation\u001b[49m\u001b[43m(\u001b[49m\u001b[43m)\u001b[49m\n",
      "File \u001b[0;32m/gpfs/neutronsfs/instruments/VENUS/shared/software/git/all_ct_reconstruction/notebooks/__code/step1_prepare_white_beam_mode_images.py:377\u001b[0m, in \u001b[0;36mStep1PrepareWhiteBeamModeImages.perform_calculation_of_center_of_rotation\u001b[0;34m(self)\u001b[0m\n\u001b[1;32m    376\u001b[0m \u001b[38;5;28;01mdef\u001b[39;00m \u001b[38;5;21mperform_calculation_of_center_of_rotation\u001b[39m(\u001b[38;5;28mself\u001b[39m):\n\u001b[0;32m--> 377\u001b[0m     \u001b[38;5;28;43mself\u001b[39;49m\u001b[38;5;241;43m.\u001b[39;49m\u001b[43mo_tilt\u001b[49m\u001b[38;5;241;43m.\u001b[39;49m\u001b[43mcalculate_center_of_rotation\u001b[49m\u001b[43m(\u001b[49m\u001b[43m)\u001b[49m\n",
      "File \u001b[0;32m/gpfs/neutronsfs/instruments/VENUS/shared/software/git/all_ct_reconstruction/notebooks/__code/workflow/center_of_rotation_and_tilt.py:286\u001b[0m, in \u001b[0;36mCenterOfRotationAndTilt.calculate_center_of_rotation\u001b[0;34m(self)\u001b[0m\n\u001b[1;32m    285\u001b[0m \u001b[38;5;28;01mdef\u001b[39;00m \u001b[38;5;21mcalculate_center_of_rotation\u001b[39m(\u001b[38;5;28mself\u001b[39m):\n\u001b[0;32m--> 286\u001b[0m     \u001b[38;5;28;43mself\u001b[39;49m\u001b[38;5;241;43m.\u001b[39;49m\u001b[43mcalc_cor_with_algotom\u001b[49m\u001b[43m(\u001b[49m\u001b[43m)\u001b[49m\n",
      "File \u001b[0;32m/gpfs/neutronsfs/instruments/VENUS/shared/software/git/all_ct_reconstruction/notebooks/__code/workflow/center_of_rotation_and_tilt.py:308\u001b[0m, in \u001b[0;36mCenterOfRotationAndTilt.calc_cor_with_algotom\u001b[0;34m(self)\u001b[0m\n\u001b[1;32m    305\u001b[0m     center_of_rotation \u001b[38;5;241m=\u001b[39m find_center_vo(sinogram_of_normalized_images_log[\u001b[38;5;28mself\u001b[39m\u001b[38;5;241m.\u001b[39mslide_value][\u001b[38;5;241m0\u001b[39m:slice_value],\n\u001b[1;32m    306\u001b[0m                                         ncore\u001b[38;5;241m=\u001b[39mNUM_THREADS)\n\u001b[1;32m    307\u001b[0m \u001b[38;5;28;01melse\u001b[39;00m:\n\u001b[0;32m--> 308\u001b[0m     center_of_rotation \u001b[38;5;241m=\u001b[39m \u001b[43mfind_center_360\u001b[49m\u001b[43m(\u001b[49m\u001b[43msinogram_of_normalized_images_log\u001b[49m\u001b[43m[\u001b[49m\u001b[38;5;28;43mself\u001b[39;49m\u001b[38;5;241;43m.\u001b[39;49m\u001b[43mslide_value\u001b[49m\u001b[43m]\u001b[49m\u001b[43m[\u001b[49m\u001b[43m:\u001b[49m\u001b[43m]\u001b[49m\u001b[43m,\u001b[49m\n\u001b[1;32m    309\u001b[0m \u001b[43m                                         \u001b[49m\u001b[43mwin_width\u001b[49m\u001b[38;5;241;43m=\u001b[39;49m\u001b[38;5;241;43m800\u001b[39;49m\u001b[43m,\u001b[49m\n\u001b[1;32m    310\u001b[0m \u001b[43m                                         \u001b[49m\u001b[43mncore\u001b[49m\u001b[38;5;241;43m=\u001b[39;49m\u001b[43mNUM_THREADS\u001b[49m\u001b[43m)\u001b[49m\n\u001b[1;32m    312\u001b[0m logging\u001b[38;5;241m.\u001b[39minfo(\u001b[38;5;124mf\u001b[39m\u001b[38;5;124m\"\u001b[39m\u001b[38;5;124mcenter of rotation = \u001b[39m\u001b[38;5;132;01m{\u001b[39;00mcenter_of_rotation\u001b[38;5;132;01m}\u001b[39;00m\u001b[38;5;124m\"\u001b[39m)\n\u001b[1;32m    313\u001b[0m \u001b[38;5;28mself\u001b[39m\u001b[38;5;241m.\u001b[39mparent\u001b[38;5;241m.\u001b[39mconfiguration\u001b[38;5;241m.\u001b[39mcenter_of_rotation \u001b[38;5;241m=\u001b[39m center_of_rotation\n",
      "File \u001b[0;32m~/.conda/envs/hsnt/lib/python3.9/site-packages/algotom/prep/calculation.py:710\u001b[0m, in \u001b[0;36mfind_center_360\u001b[0;34m(sino_360, win_width, side, denoise, norm, use_overlap, ncore)\u001b[0m\n\u001b[1;32m    708\u001b[0m sino_top \u001b[38;5;241m=\u001b[39m sino_360[\u001b[38;5;241m0\u001b[39m:nrow_180, :]\n\u001b[1;32m    709\u001b[0m sino_bot \u001b[38;5;241m=\u001b[39m np\u001b[38;5;241m.\u001b[39mfliplr(sino_360[\u001b[38;5;241m-\u001b[39mnrow_180:, :])\n\u001b[0;32m--> 710\u001b[0m (overlap, side, overlap_position) \u001b[38;5;241m=\u001b[39m \u001b[43mfind_overlap\u001b[49m\u001b[43m(\u001b[49m\u001b[43msino_top\u001b[49m\u001b[43m,\u001b[49m\u001b[43m \u001b[49m\u001b[43msino_bot\u001b[49m\u001b[43m,\u001b[49m\n\u001b[1;32m    711\u001b[0m \u001b[43m                                                 \u001b[49m\u001b[43mwin_width\u001b[49m\u001b[43m,\u001b[49m\u001b[43m \u001b[49m\u001b[43mside\u001b[49m\u001b[43m,\u001b[49m\u001b[43m \u001b[49m\u001b[43mdenoise\u001b[49m\u001b[43m,\u001b[49m\n\u001b[1;32m    712\u001b[0m \u001b[43m                                                 \u001b[49m\u001b[43mnorm\u001b[49m\u001b[43m,\u001b[49m\u001b[43m \u001b[49m\u001b[43muse_overlap\u001b[49m\u001b[43m,\u001b[49m\u001b[43m \u001b[49m\u001b[43mncore\u001b[49m\u001b[43m)\u001b[49m\n\u001b[1;32m    713\u001b[0m \u001b[38;5;28;01mif\u001b[39;00m side \u001b[38;5;241m==\u001b[39m \u001b[38;5;241m0\u001b[39m:\n\u001b[1;32m    714\u001b[0m     cor \u001b[38;5;241m=\u001b[39m overlap \u001b[38;5;241m/\u001b[39m \u001b[38;5;241m2.0\u001b[39m \u001b[38;5;241m-\u001b[39m \u001b[38;5;241m1.0\u001b[39m\n",
      "File \u001b[0;32m~/.conda/envs/hsnt/lib/python3.9/site-packages/algotom/prep/calculation.py:596\u001b[0m, in \u001b[0;36mfind_overlap\u001b[0;34m(mat1, mat2, win_width, side, denoise, norm, use_overlap, ncore)\u001b[0m\n\u001b[1;32m    594\u001b[0m     overlap \u001b[38;5;241m=\u001b[39m overlap_position \u001b[38;5;241m+\u001b[39m win_width \u001b[38;5;241m/\u001b[39m\u001b[38;5;241m/\u001b[39m \u001b[38;5;241m2\u001b[39m\n\u001b[1;32m    595\u001b[0m \u001b[38;5;28;01melse\u001b[39;00m:\n\u001b[0;32m--> 596\u001b[0m     (list_metric1, offset1) \u001b[38;5;241m=\u001b[39m \u001b[43msearch_overlap\u001b[49m\u001b[43m(\u001b[49m\u001b[43mmat1\u001b[49m\u001b[43m,\u001b[49m\u001b[43m \u001b[49m\u001b[43mmat2\u001b[49m\u001b[43m,\u001b[49m\u001b[43m \u001b[49m\u001b[43mwin_width\u001b[49m\u001b[43m,\u001b[49m\u001b[43m \u001b[49m\u001b[38;5;241;43m1\u001b[39;49m\u001b[43m,\u001b[49m\n\u001b[1;32m    597\u001b[0m \u001b[43m                                             \u001b[49m\u001b[43mnorm\u001b[49m\u001b[43m,\u001b[49m\u001b[43m \u001b[49m\u001b[43mdenoise\u001b[49m\u001b[43m,\u001b[49m\u001b[43m \u001b[49m\u001b[43muse_overlap\u001b[49m\u001b[43m,\u001b[49m\n\u001b[1;32m    598\u001b[0m \u001b[43m                                             \u001b[49m\u001b[43mncore\u001b[49m\u001b[43m)\u001b[49m\n\u001b[1;32m    599\u001b[0m     (list_metric2, offset2) \u001b[38;5;241m=\u001b[39m search_overlap(mat1, mat2, win_width, \u001b[38;5;241m0\u001b[39m,\n\u001b[1;32m    600\u001b[0m                                              norm, denoise, use_overlap,\n\u001b[1;32m    601\u001b[0m                                              ncore)\n\u001b[1;32m    602\u001b[0m     (curvature1, overlap_position1) \u001b[38;5;241m=\u001b[39m calculate_curvature(list_metric1)\n",
      "File \u001b[0;32m~/.conda/envs/hsnt/lib/python3.9/site-packages/algotom/prep/calculation.py:523\u001b[0m, in \u001b[0;36msearch_overlap\u001b[0;34m(mat1, mat2, win_width, side, denoise, norm, use_overlap, ncore)\u001b[0m\n\u001b[1;32m    516\u001b[0m         list_metric[i] \u001b[38;5;241m=\u001b[39m __calc_overlap_metric(mat1, pos, offset,\n\u001b[1;32m    517\u001b[0m                                                use_overlap, side, norm,\n\u001b[1;32m    518\u001b[0m                                                wei_down, wei_up,\n\u001b[1;32m    519\u001b[0m                                                win_width, mat2_roi,\n\u001b[1;32m    520\u001b[0m                                                mat2_roi_wei,\n\u001b[1;32m    521\u001b[0m                                                list_mean2)\n\u001b[1;32m    522\u001b[0m \u001b[38;5;28;01melse\u001b[39;00m:\n\u001b[0;32m--> 523\u001b[0m     list_metric \u001b[38;5;241m=\u001b[39m \u001b[43mParallel\u001b[49m\u001b[43m(\u001b[49m\u001b[43mn_jobs\u001b[49m\u001b[38;5;241;43m=\u001b[39;49m\u001b[43mncore\u001b[49m\u001b[43m,\u001b[49m\u001b[43m \u001b[49m\u001b[43mprefer\u001b[49m\u001b[38;5;241;43m=\u001b[39;49m\u001b[38;5;124;43m\"\u001b[39;49m\u001b[38;5;124;43mthreads\u001b[39;49m\u001b[38;5;124;43m\"\u001b[39;49m\u001b[43m)\u001b[49m\u001b[43m(\u001b[49m\n\u001b[1;32m    524\u001b[0m \u001b[43m        \u001b[49m\u001b[43mdelayed\u001b[49m\u001b[43m(\u001b[49m\u001b[43m__calc_overlap_metric\u001b[49m\u001b[43m)\u001b[49m\u001b[43m(\u001b[49m\u001b[43mmat1\u001b[49m\u001b[43m,\u001b[49m\u001b[43m \u001b[49m\u001b[43mlist_pos\u001b[49m\u001b[43m[\u001b[49m\u001b[43mi\u001b[49m\u001b[43m]\u001b[49m\u001b[43m,\u001b[49m\u001b[43m \u001b[49m\u001b[43moffset\u001b[49m\u001b[43m,\u001b[49m\n\u001b[1;32m    525\u001b[0m \u001b[43m                                       \u001b[49m\u001b[43muse_overlap\u001b[49m\u001b[43m,\u001b[49m\u001b[43m \u001b[49m\u001b[43mside\u001b[49m\u001b[43m,\u001b[49m\u001b[43m \u001b[49m\u001b[43mnorm\u001b[49m\u001b[43m,\u001b[49m\n\u001b[1;32m    526\u001b[0m \u001b[43m                                       \u001b[49m\u001b[43mwei_down\u001b[49m\u001b[43m,\u001b[49m\u001b[43m \u001b[49m\u001b[43mwei_up\u001b[49m\u001b[43m,\u001b[49m\u001b[43m \u001b[49m\u001b[43mwin_width\u001b[49m\u001b[43m,\u001b[49m\n\u001b[1;32m    527\u001b[0m \u001b[43m                                       \u001b[49m\u001b[43mmat2_roi\u001b[49m\u001b[43m,\u001b[49m\u001b[43m \u001b[49m\u001b[43mmat2_roi_wei\u001b[49m\u001b[43m,\u001b[49m\n\u001b[1;32m    528\u001b[0m \u001b[43m                                       \u001b[49m\u001b[43mlist_mean2\u001b[49m\u001b[43m)\u001b[49m\u001b[43m \u001b[49m\u001b[38;5;28;43;01mfor\u001b[39;49;00m\u001b[43m \u001b[49m\u001b[43mi\u001b[49m\u001b[43m \u001b[49m\u001b[38;5;129;43;01min\u001b[39;49;00m\u001b[43m \u001b[49m\u001b[38;5;28;43mrange\u001b[39;49m\u001b[43m(\u001b[49m\u001b[43mnump\u001b[49m\u001b[43m)\u001b[49m\u001b[43m)\u001b[49m\n\u001b[1;32m    529\u001b[0m     list_metric \u001b[38;5;241m=\u001b[39m np\u001b[38;5;241m.\u001b[39masarray(list_metric)\n\u001b[1;32m    530\u001b[0m min_metric \u001b[38;5;241m=\u001b[39m np\u001b[38;5;241m.\u001b[39mmin(list_metric)\n",
      "File \u001b[0;32m~/.local/lib/python3.9/site-packages/joblib/parallel.py:2007\u001b[0m, in \u001b[0;36mParallel.__call__\u001b[0;34m(self, iterable)\u001b[0m\n\u001b[1;32m   2001\u001b[0m \u001b[38;5;66;03m# The first item from the output is blank, but it makes the interpreter\u001b[39;00m\n\u001b[1;32m   2002\u001b[0m \u001b[38;5;66;03m# progress until it enters the Try/Except block of the generator and\u001b[39;00m\n\u001b[1;32m   2003\u001b[0m \u001b[38;5;66;03m# reaches the first `yield` statement. This starts the asynchronous\u001b[39;00m\n\u001b[1;32m   2004\u001b[0m \u001b[38;5;66;03m# dispatch of the tasks to the workers.\u001b[39;00m\n\u001b[1;32m   2005\u001b[0m \u001b[38;5;28mnext\u001b[39m(output)\n\u001b[0;32m-> 2007\u001b[0m \u001b[38;5;28;01mreturn\u001b[39;00m output \u001b[38;5;28;01mif\u001b[39;00m \u001b[38;5;28mself\u001b[39m\u001b[38;5;241m.\u001b[39mreturn_generator \u001b[38;5;28;01melse\u001b[39;00m \u001b[38;5;28;43mlist\u001b[39;49m\u001b[43m(\u001b[49m\u001b[43moutput\u001b[49m\u001b[43m)\u001b[49m\n",
      "File \u001b[0;32m~/.local/lib/python3.9/site-packages/joblib/parallel.py:1650\u001b[0m, in \u001b[0;36mParallel._get_outputs\u001b[0;34m(self, iterator, pre_dispatch)\u001b[0m\n\u001b[1;32m   1647\u001b[0m     \u001b[38;5;28;01myield\u001b[39;00m\n\u001b[1;32m   1649\u001b[0m     \u001b[38;5;28;01mwith\u001b[39;00m \u001b[38;5;28mself\u001b[39m\u001b[38;5;241m.\u001b[39m_backend\u001b[38;5;241m.\u001b[39mretrieval_context():\n\u001b[0;32m-> 1650\u001b[0m         \u001b[38;5;28;01myield from\u001b[39;00m \u001b[38;5;28mself\u001b[39m\u001b[38;5;241m.\u001b[39m_retrieve()\n\u001b[1;32m   1652\u001b[0m \u001b[38;5;28;01mexcept\u001b[39;00m \u001b[38;5;167;01mGeneratorExit\u001b[39;00m:\n\u001b[1;32m   1653\u001b[0m     \u001b[38;5;66;03m# The generator has been garbage collected before being fully\u001b[39;00m\n\u001b[1;32m   1654\u001b[0m     \u001b[38;5;66;03m# consumed. This aborts the remaining tasks if possible and warn\u001b[39;00m\n\u001b[1;32m   1655\u001b[0m     \u001b[38;5;66;03m# the user if necessary.\u001b[39;00m\n\u001b[1;32m   1656\u001b[0m     \u001b[38;5;28mself\u001b[39m\u001b[38;5;241m.\u001b[39m_exception \u001b[38;5;241m=\u001b[39m \u001b[38;5;28;01mTrue\u001b[39;00m\n",
      "File \u001b[0;32m~/.local/lib/python3.9/site-packages/joblib/parallel.py:1754\u001b[0m, in \u001b[0;36mParallel._retrieve\u001b[0;34m(self)\u001b[0m\n\u001b[1;32m   1747\u001b[0m \u001b[38;5;28;01mwhile\u001b[39;00m \u001b[38;5;28mself\u001b[39m\u001b[38;5;241m.\u001b[39m_wait_retrieval():\n\u001b[1;32m   1748\u001b[0m \n\u001b[1;32m   1749\u001b[0m     \u001b[38;5;66;03m# If the callback thread of a worker has signaled that its task\u001b[39;00m\n\u001b[1;32m   1750\u001b[0m     \u001b[38;5;66;03m# triggered an exception, or if the retrieval loop has raised an\u001b[39;00m\n\u001b[1;32m   1751\u001b[0m     \u001b[38;5;66;03m# exception (e.g. `GeneratorExit`), exit the loop and surface the\u001b[39;00m\n\u001b[1;32m   1752\u001b[0m     \u001b[38;5;66;03m# worker traceback.\u001b[39;00m\n\u001b[1;32m   1753\u001b[0m     \u001b[38;5;28;01mif\u001b[39;00m \u001b[38;5;28mself\u001b[39m\u001b[38;5;241m.\u001b[39m_aborting:\n\u001b[0;32m-> 1754\u001b[0m         \u001b[38;5;28;43mself\u001b[39;49m\u001b[38;5;241;43m.\u001b[39;49m\u001b[43m_raise_error_fast\u001b[49m\u001b[43m(\u001b[49m\u001b[43m)\u001b[49m\n\u001b[1;32m   1755\u001b[0m         \u001b[38;5;28;01mbreak\u001b[39;00m\n\u001b[1;32m   1757\u001b[0m     \u001b[38;5;66;03m# If the next job is not ready for retrieval yet, we just wait for\u001b[39;00m\n\u001b[1;32m   1758\u001b[0m     \u001b[38;5;66;03m# async callbacks to progress.\u001b[39;00m\n",
      "File \u001b[0;32m~/.local/lib/python3.9/site-packages/joblib/parallel.py:1789\u001b[0m, in \u001b[0;36mParallel._raise_error_fast\u001b[0;34m(self)\u001b[0m\n\u001b[1;32m   1785\u001b[0m \u001b[38;5;66;03m# If this error job exists, immediately raise the error by\u001b[39;00m\n\u001b[1;32m   1786\u001b[0m \u001b[38;5;66;03m# calling get_result. This job might not exists if abort has been\u001b[39;00m\n\u001b[1;32m   1787\u001b[0m \u001b[38;5;66;03m# called directly or if the generator is gc'ed.\u001b[39;00m\n\u001b[1;32m   1788\u001b[0m \u001b[38;5;28;01mif\u001b[39;00m error_job \u001b[38;5;129;01mis\u001b[39;00m \u001b[38;5;129;01mnot\u001b[39;00m \u001b[38;5;28;01mNone\u001b[39;00m:\n\u001b[0;32m-> 1789\u001b[0m     \u001b[43merror_job\u001b[49m\u001b[38;5;241;43m.\u001b[39;49m\u001b[43mget_result\u001b[49m\u001b[43m(\u001b[49m\u001b[38;5;28;43mself\u001b[39;49m\u001b[38;5;241;43m.\u001b[39;49m\u001b[43mtimeout\u001b[49m\u001b[43m)\u001b[49m\n",
      "File \u001b[0;32m~/.local/lib/python3.9/site-packages/joblib/parallel.py:745\u001b[0m, in \u001b[0;36mBatchCompletionCallBack.get_result\u001b[0;34m(self, timeout)\u001b[0m\n\u001b[1;32m    739\u001b[0m backend \u001b[38;5;241m=\u001b[39m \u001b[38;5;28mself\u001b[39m\u001b[38;5;241m.\u001b[39mparallel\u001b[38;5;241m.\u001b[39m_backend\n\u001b[1;32m    741\u001b[0m \u001b[38;5;28;01mif\u001b[39;00m backend\u001b[38;5;241m.\u001b[39msupports_retrieve_callback:\n\u001b[1;32m    742\u001b[0m     \u001b[38;5;66;03m# We assume that the result has already been retrieved by the\u001b[39;00m\n\u001b[1;32m    743\u001b[0m     \u001b[38;5;66;03m# callback thread, and is stored internally. It's just waiting to\u001b[39;00m\n\u001b[1;32m    744\u001b[0m     \u001b[38;5;66;03m# be returned.\u001b[39;00m\n\u001b[0;32m--> 745\u001b[0m     \u001b[38;5;28;01mreturn\u001b[39;00m \u001b[38;5;28;43mself\u001b[39;49m\u001b[38;5;241;43m.\u001b[39;49m\u001b[43m_return_or_raise\u001b[49m\u001b[43m(\u001b[49m\u001b[43m)\u001b[49m\n\u001b[1;32m    747\u001b[0m \u001b[38;5;66;03m# For other backends, the main thread needs to run the retrieval step.\u001b[39;00m\n\u001b[1;32m    748\u001b[0m \u001b[38;5;28;01mtry\u001b[39;00m:\n",
      "File \u001b[0;32m~/.local/lib/python3.9/site-packages/joblib/parallel.py:763\u001b[0m, in \u001b[0;36mBatchCompletionCallBack._return_or_raise\u001b[0;34m(self)\u001b[0m\n\u001b[1;32m    761\u001b[0m \u001b[38;5;28;01mtry\u001b[39;00m:\n\u001b[1;32m    762\u001b[0m     \u001b[38;5;28;01mif\u001b[39;00m \u001b[38;5;28mself\u001b[39m\u001b[38;5;241m.\u001b[39mstatus \u001b[38;5;241m==\u001b[39m TASK_ERROR:\n\u001b[0;32m--> 763\u001b[0m         \u001b[38;5;28;01mraise\u001b[39;00m \u001b[38;5;28mself\u001b[39m\u001b[38;5;241m.\u001b[39m_result\n\u001b[1;32m    764\u001b[0m     \u001b[38;5;28;01mreturn\u001b[39;00m \u001b[38;5;28mself\u001b[39m\u001b[38;5;241m.\u001b[39m_result\n\u001b[1;32m    765\u001b[0m \u001b[38;5;28;01mfinally\u001b[39;00m:\n",
      "\u001b[0;31mValueError\u001b[0m: array must not contain infs or NaNs"
     ]
    }
   ],
   "source": [
    "o_white_beam.perform_calculation_of_center_of_rotation()"
   ]
  },
  {
   "cell_type": "markdown",
   "id": "735faafb",
   "metadata": {},
   "source": [
    "<hr style=\"border-bottom: dotted 1px;\" /><hr style=\"height: 2px\" />"
   ]
  },
  {
   "cell_type": "markdown",
   "id": "a1760101",
   "metadata": {},
   "source": [
    "# <font color='red'>Select reconstruction method(s)</font>"
   ]
  },
  {
   "cell_type": "code",
   "execution_count": null,
   "id": "27b82979",
   "metadata": {},
   "outputs": [],
   "source": [
    "o_white_beam.select_reconstruction_method()"
   ]
  },
  {
   "cell_type": "markdown",
   "id": "f79fabc5-69d4-40a9-938d-43250c0cfd38",
   "metadata": {},
   "source": [
    "# <font color='red'>Set up reconstruction parameters</font>\n",
    "\n",
    "<font color='blue'><b>Instructions</b>: \n",
    "\n",
    "- define the reconstruction settings (keeping the <b>default values</b> is a good choice for novice users)</font>\n",
    "\n"
   ]
  },
  {
   "cell_type": "code",
   "execution_count": 21,
   "id": "dd0e3924",
   "metadata": {
    "execution": {
     "iopub.execute_input": "2024-12-05T18:38:29.680501Z",
     "iopub.status.busy": "2024-12-05T18:38:29.680061Z",
     "iopub.status.idle": "2024-12-05T18:38:29.844927Z",
     "shell.execute_reply": "2024-12-05T18:38:29.844601Z",
     "shell.execute_reply.started": "2024-12-05T18:38:29.680484Z"
    }
   },
   "outputs": [],
   "source": [
    "o_white_beam.reconstruction_settings()"
   ]
  },
  {
   "cell_type": "markdown",
   "id": "c20fb822",
   "metadata": {},
   "source": [
    "# <font color='red'>Create config file and export pre-processed images</font>\n",
    "\n",
    "* <b>config file</b> will be used in the next step (step1_####.json)\n",
    "* <b>log file</b> to check the full process up to here\n",
    "* <b>stack of projectons ready to be reconstructed</b>"
   ]
  },
  {
   "cell_type": "code",
   "execution_count": null,
   "id": "25c8afd3",
   "metadata": {
    "execution": {
     "iopub.execute_input": "2024-12-05T18:39:18.554486Z",
     "iopub.status.busy": "2024-12-05T18:39:18.554256Z",
     "iopub.status.idle": "2024-12-05T18:39:18.566463Z",
     "shell.execute_reply": "2024-12-05T18:39:18.566083Z",
     "shell.execute_reply.started": "2024-12-05T18:39:18.554471Z"
    }
   },
   "outputs": [],
   "source": [
    "o_white_beam.select_export_extra_files()"
   ]
  },
  {
   "cell_type": "code",
   "execution_count": null,
   "id": "4db82b11",
   "metadata": {
    "execution": {
     "iopub.execute_input": "2024-12-05T18:39:19.865585Z",
     "iopub.status.busy": "2024-12-05T18:39:19.865351Z",
     "iopub.status.idle": "2024-12-05T18:39:20.551223Z",
     "shell.execute_reply": "2024-12-05T18:39:20.550854Z",
     "shell.execute_reply.started": "2024-12-05T18:39:19.865568Z"
    }
   },
   "outputs": [],
   "source": [
    "o_white_beam.export_extra_files(prefix='step1')"
   ]
  },
  {
   "cell_type": "markdown",
   "id": "132b68ce",
   "metadata": {},
   "source": [
    "<hr style=\"border-bottom: dotted 1px;\" /><hr>"
   ]
  }
 ],
 "metadata": {
  "kernelspec": {
   "display_name": "hsnt",
   "language": "python",
   "name": "python3"
  },
  "language_info": {
   "codemirror_mode": {
    "name": "ipython",
    "version": 3
   },
   "file_extension": ".py",
   "mimetype": "text/x-python",
   "name": "python",
   "nbconvert_exporter": "python",
   "pygments_lexer": "ipython3",
   "version": "3.9.20"
  }
 },
 "nbformat": 4,
 "nbformat_minor": 5
}
