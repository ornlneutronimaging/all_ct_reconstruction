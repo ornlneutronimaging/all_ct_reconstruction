{
 "cells": [
  {
   "cell_type": "code",
   "execution_count": null,
   "id": "d537c2cb",
   "metadata": {
    "execution": {
     "iopub.execute_input": "2025-02-13T13:43:59.357196Z",
     "iopub.status.busy": "2025-02-13T13:43:59.356530Z",
     "iopub.status.idle": "2025-02-13T13:44:05.223498Z",
     "shell.execute_reply": "2025-02-13T13:44:05.223075Z",
     "shell.execute_reply.started": "2025-02-13T13:43:59.357177Z"
    }
   },
   "outputs": [],
   "source": [
    "# this is using the hsnt kernel conda environment\n",
    "\n",
    "import warnings\n",
    "warnings.filterwarnings('ignore')\n",
    "# %matplotlib inline\n",
    "\n",
    "from __code.step1_prepare_ccd_images import Step1PrepareCcdImages\n",
    "\n",
    "from __code import system\n",
    "\n",
    "system.System.select_working_dir()\n",
    "from __code.__all import custom_style\n",
    "custom_style.style()"
   ]
  },
  {
   "cell_type": "markdown",
   "id": "b9d745bd",
   "metadata": {},
   "source": [
    "# <font color='red'>Input sample folder</font>\n",
    "\n",
    "This folder will contains all the images (1 image per angle)\n",
    "\n",
    "<font color='blue'><b>Instructions</b>: select folder containing projections</font>"
   ]
  },
  {
   "cell_type": "code",
   "execution_count": null,
   "id": "4521c25a",
   "metadata": {
    "execution": {
     "iopub.execute_input": "2025-02-13T13:44:16.807983Z",
     "iopub.status.busy": "2025-02-13T13:44:16.807690Z",
     "iopub.status.idle": "2025-02-13T13:44:16.829468Z",
     "shell.execute_reply": "2025-02-13T13:44:16.829077Z",
     "shell.execute_reply.started": "2025-02-13T13:44:16.807969Z"
    }
   },
   "outputs": [],
   "source": [
    "o_white_beam = Step1PrepareCcdImages(system=system)\n",
    "o_white_beam.select_top_sample_folder()"
   ]
  },
  {
   "cell_type": "markdown",
   "id": "5d532080",
   "metadata": {},
   "source": [
    "# <font color='red'>Input Open Beam (OB) images</font>\n",
    "\n",
    "Select the images to use as OB\n",
    "\n",
    "<font color='blue'><b>Instructions</b>: select individual images</font>"
   ]
  },
  {
   "cell_type": "code",
   "execution_count": null,
   "id": "51549f93",
   "metadata": {
    "execution": {
     "iopub.execute_input": "2025-02-13T13:44:17.858806Z",
     "iopub.status.busy": "2025-02-13T13:44:17.858414Z",
     "iopub.status.idle": "2025-02-13T13:44:17.862454Z",
     "shell.execute_reply": "2025-02-13T13:44:17.862008Z",
     "shell.execute_reply.started": "2025-02-13T13:44:17.858792Z"
    }
   },
   "outputs": [],
   "source": [
    "o_white_beam.select_ob_images()"
   ]
  },
  {
   "cell_type": "markdown",
   "id": "de5a18df",
   "metadata": {},
   "source": [
    "# <font color='red'>Input Dark Current (DC) images</font>\n",
    "\n",
    "Select the images to use as DC\n",
    "\n",
    "<font color='blue'><b>Instructions</b>: select individual images</font>"
   ]
  },
  {
   "cell_type": "code",
   "execution_count": null,
   "id": "6cea9407",
   "metadata": {
    "execution": {
     "iopub.execute_input": "2025-02-13T13:44:18.228030Z",
     "iopub.status.busy": "2025-02-13T13:44:18.227768Z",
     "iopub.status.idle": "2025-02-13T13:44:18.232442Z",
     "shell.execute_reply": "2025-02-13T13:44:18.232065Z",
     "shell.execute_reply.started": "2025-02-13T13:44:18.228005Z"
    }
   },
   "outputs": [],
   "source": [
    "o_white_beam.select_dc_images()"
   ]
  },
  {
   "cell_type": "markdown",
   "id": "e2cd6952-7b00-42ff-ba57-ab86df6ace84",
   "metadata": {},
   "source": [
    "# <font color='red'>Define file naming schema</font>\n",
    "\n",
    "This is needed to extract the angle value from the images file name"
   ]
  },
  {
   "cell_type": "code",
   "execution_count": null,
   "id": "ccadcdc2-56e0-4244-a805-6c9121094cde",
   "metadata": {
    "execution": {
     "iopub.execute_input": "2025-02-13T13:44:19.010447Z",
     "iopub.status.busy": "2025-02-13T13:44:19.010248Z",
     "iopub.status.idle": "2025-02-13T13:44:19.030001Z",
     "shell.execute_reply": "2025-02-13T13:44:19.029649Z",
     "shell.execute_reply.started": "2025-02-13T13:44:19.010433Z"
    }
   },
   "outputs": [],
   "source": [
    "o_white_beam.define_naming_schema()"
   ]
  },
  {
   "cell_type": "markdown",
   "id": "18872c74-db47-407c-8f85-62def1f98cce",
   "metadata": {},
   "source": [
    "# <font color='red'>Percentage of data to use </font>"
   ]
  },
  {
   "cell_type": "code",
   "execution_count": null,
   "id": "f89c1640-7292-4852-8999-b9c4f946be50",
   "metadata": {
    "execution": {
     "iopub.execute_input": "2025-02-13T13:44:24.414012Z",
     "iopub.status.busy": "2025-02-13T13:44:24.413785Z",
     "iopub.status.idle": "2025-02-13T13:44:24.419224Z",
     "shell.execute_reply": "2025-02-13T13:44:24.418936Z",
     "shell.execute_reply.started": "2025-02-13T13:44:24.413996Z"
    }
   },
   "outputs": [],
   "source": [
    "o_white_beam.select_percentage_of_data_to_use()"
   ]
  },
  {
   "cell_type": "markdown",
   "id": "107d1050",
   "metadata": {},
   "source": [
    "# <font color='red'>Load data</font>"
   ]
  },
  {
   "cell_type": "markdown",
   "id": "666d5d89",
   "metadata": {},
   "source": [
    "This cell will load the data.\n",
    "\n",
    "- <font color=blue><b>White beam</b></font>:\n",
    "This step will add all the counts within a given run, making it feel like the data were acquired in white beam mode, loosing the time-of-flight (TOF) information.\n",
    "\n",
    "This step will also sort the runs by increasing angle value.\n",
    "\n",
    "<font size=1 color='red'><u>Developer Notes</u>: this step will create the following:\n",
    "- dictionary <i>master_3d_data_array</i>\n",
    "- <i>list_of_images</i> listing the tiff files)\n",
    "- <i>final_list_of_angles</i> and <i> final_list_of_angles_rad</i> with list of angles"
   ]
  },
  {
   "cell_type": "code",
   "execution_count": null,
   "id": "0eee229f",
   "metadata": {
    "execution": {
     "iopub.execute_input": "2025-02-13T13:44:27.680533Z",
     "iopub.status.busy": "2025-02-13T13:44:27.680315Z",
     "iopub.status.idle": "2025-02-13T13:45:07.651981Z",
     "shell.execute_reply": "2025-02-13T13:45:07.651514Z",
     "shell.execute_reply.started": "2025-02-13T13:44:27.680518Z"
    }
   },
   "outputs": [],
   "source": [
    "o_white_beam.load_data()"
   ]
  },
  {
   "cell_type": "markdown",
   "id": "c45e1943",
   "metadata": {},
   "source": [
    "<hr><hr style=\"border-bottom: dotted 1px;\" />\n",
    "<font color='purple' size='5'>Visualization</font><font color='purple' size='3'> - OPTIONAL</font>\n",
    "\n",
    "Select the mode you want to use:\n",
    " - all images <b>(this may take a long time to process !)</b>\n",
    " - visual verification of raw, ob and dc"
   ]
  },
  {
   "cell_type": "code",
   "execution_count": null,
   "id": "1203e3e8",
   "metadata": {},
   "outputs": [],
   "source": [
    "o_white_beam.how_to_visualize()"
   ]
  },
  {
   "cell_type": "code",
   "execution_count": null,
   "id": "7214a9cb",
   "metadata": {},
   "outputs": [],
   "source": [
    "o_white_beam.visualize_raw_data()"
   ]
  },
  {
   "cell_type": "markdown",
   "id": "47700d7a",
   "metadata": {},
   "source": [
    "<hr style=\"height: 2px\" /><hr style=\"border-bottom: dotted 1px\" />\n",
    "<font color='purple' size='5'>Crop the raw data</font><font color='purple' size='3'> - OPTIONAL</font>\n",
    "\n",
    "<font size=1 color='red'><u>Developer Notes</u>: this step will update the dictionary <i>master_3d_data_array</i>"
   ]
  },
  {
   "cell_type": "code",
   "execution_count": null,
   "id": "68e059bb",
   "metadata": {},
   "outputs": [],
   "source": [
    "o_white_beam.pre_processing_crop_settings()"
   ]
  },
  {
   "cell_type": "markdown",
   "id": "9d9620cf",
   "metadata": {},
   "source": [
    "execute the cropping"
   ]
  },
  {
   "cell_type": "code",
   "execution_count": null,
   "id": "282ef9a6",
   "metadata": {},
   "outputs": [],
   "source": [
    "o_white_beam.pre_processing_crop()"
   ]
  },
  {
   "cell_type": "markdown",
   "id": "1d97e3d0",
   "metadata": {},
   "source": [
    "<hr style=\"height: 2px\" /><hr style=\"border-bottom: dotted 1px\" />\n",
    "<font color='purple' size='5'>Remove outliers</font><font color='purple' size='3'> - OPTIONAL</font>"
   ]
  },
  {
   "cell_type": "markdown",
   "id": "df329504",
   "metadata": {},
   "source": [
    "Three algorithms are provided:\n",
    "\n",
    "* using `in-house` method with histogram (remove dead pixels and abnormal very high counts)\n",
    "* using Tomopy `remove_outlier` method (remove high intensity bright spots)\n",
    "* using Scipy `gamma_filter` method\n",
    "\n",
    "<font color='blue'><b>Instructions</b>: select the algorithms you want to use.\n",
    "\n",
    "<font size=1 color='red'><u>Developer Notes</u>: this step will update the dictionary <i>master_3d_data_array</i>"
   ]
  },
  {
   "cell_type": "code",
   "execution_count": null,
   "id": "d6952c84",
   "metadata": {},
   "outputs": [],
   "source": [
    "o_white_beam.clean_images_settings()"
   ]
  },
  {
   "cell_type": "markdown",
   "id": "0b4bdb84",
   "metadata": {},
   "source": [
    "The next cell will be ignored if you didn't select <b>histogram</b>. \n",
    "\n",
    "<font color='blue'><b>Instructions</b>: if using the <b>histogram</b> algorithm, by default, all the pixels found in the first and last bin are considered as **bad** pixels. You have the option to change those settings. </font>"
   ]
  },
  {
   "cell_type": "code",
   "execution_count": null,
   "id": "66e1f723",
   "metadata": {},
   "outputs": [],
   "source": [
    "o_white_beam.clean_images_setup()"
   ]
  },
  {
   "cell_type": "markdown",
   "id": "9729952c",
   "metadata": {},
   "source": [
    "Launch the cleaning"
   ]
  },
  {
   "cell_type": "code",
   "execution_count": null,
   "id": "694507be",
   "metadata": {},
   "outputs": [],
   "source": [
    "o_white_beam.clean_images()"
   ]
  },
  {
   "cell_type": "markdown",
   "id": "cfe260fd",
   "metadata": {},
   "source": [
    "<hr><hr style=\"border-bottom: dotted 1px;\" />\n",
    "<font color='purple' size='5'>Visualization</font><font color='purple' size='3'> - OPTIONAL</font>\n",
    "\n",
    "Select the mode you want to use:\n",
    " - all images <b>(this may take a long time to process !)</b>\n",
    " - visual verification of raw, ob and dc"
   ]
  },
  {
   "cell_type": "markdown",
   "id": "7b4cf410",
   "metadata": {},
   "source": [
    "### How do you want to visualize the cleaned data?"
   ]
  },
  {
   "cell_type": "code",
   "execution_count": null,
   "id": "47942a96",
   "metadata": {},
   "outputs": [],
   "source": [
    "o_white_beam.how_to_visualize_after_cleaning()"
   ]
  },
  {
   "cell_type": "markdown",
   "id": "df0a33bf",
   "metadata": {},
   "source": [
    "Launch the visualization"
   ]
  },
  {
   "cell_type": "code",
   "execution_count": null,
   "id": "9185e09d",
   "metadata": {},
   "outputs": [],
   "source": [
    "o_white_beam.visualize_cleaned_data()"
   ]
  },
  {
   "cell_type": "markdown",
   "id": "83efbb03",
   "metadata": {},
   "source": [
    "<hr style=\"height: 2px\" /><hr style=\"border-bottom: dotted 1px\" />\n",
    "<font color='purple' size='5'>Rebin pixels</font><font color='purple' size='3'> - OPTIONAL</font>\n",
    "\n",
    "<font size=1 color='red'><u>Developer Notes</u>: this step will update the 3d arrays <i>master_3d_data_array</i></font>\n",
    "\n",
    "Select how you want to combine (bin) the pixels"
   ]
  },
  {
   "cell_type": "code",
   "execution_count": null,
   "id": "96c72c8f",
   "metadata": {},
   "outputs": [],
   "source": [
    "o_white_beam.rebin_settings()"
   ]
  },
  {
   "cell_type": "markdown",
   "id": "1edb161d",
   "metadata": {},
   "source": [
    "Perform the binning"
   ]
  },
  {
   "cell_type": "code",
   "execution_count": null,
   "id": "ae116221",
   "metadata": {},
   "outputs": [],
   "source": [
    "o_white_beam.rebin_before_normalization()"
   ]
  },
  {
   "cell_type": "markdown",
   "id": "5e31e828",
   "metadata": {},
   "source": [
    "<hr style=\"height: 2px\" /><hr style=\"border-bottom: dotted 1px\" />\n",
    "<font color='purple' size='5'>Visualize rebinned data</font><font color='purple' size='3'> - OPTIONAL</font>"
   ]
  },
  {
   "cell_type": "code",
   "execution_count": null,
   "id": "9ad0e92e",
   "metadata": {},
   "outputs": [],
   "source": [
    "o_white_beam.visualization_normalization_settings()"
   ]
  },
  {
   "cell_type": "code",
   "execution_count": null,
   "id": "ae4297e4",
   "metadata": {},
   "outputs": [],
   "source": [
    "o_white_beam.visualize_rebinned_data(before_normalization=True)"
   ]
  },
  {
   "cell_type": "markdown",
   "id": "ea14a6e5-5921-4ddc-97a4-6b5411e14d0d",
   "metadata": {
    "execution": {
     "iopub.execute_input": "2024-09-25T16:48:21.997748Z",
     "iopub.status.busy": "2024-09-25T16:48:21.997353Z",
     "iopub.status.idle": "2024-09-25T16:48:21.999893Z",
     "shell.execute_reply": "2024-09-25T16:48:21.999578Z",
     "shell.execute_reply.started": "2024-09-25T16:48:21.997731Z"
    }
   },
   "source": [
    "<hr style=\"border-bottom: dotted 1px;\" />\n",
    "<hr style=\"height: 2px\" />\n",
    "\n",
    "# <font color='red'>Normalization</font>\n"
   ]
  },
  {
   "cell_type": "markdown",
   "id": "622bc51f",
   "metadata": {},
   "source": [
    "<font color='blue'><b>Instructions</b>: in order to improve the normalization, you can turn ON/OFF any of the following \n",
    "\n",
    "- <font color=red><b>use sample background region of interest (ROI)</b></font>:  select a region that does not contain any part of the sample and the program will scale the images to make the average of that region a transmission value of 1.\n",
    "- <font color=red><b>use background region of interest (ROI)</b></font>: select a region that does not contain any part of the sample in order to match the counts with the same ROI of the open beam.</font>\n",
    "\n",
    "<font size=1 color='red'><u>Developer Notes</u>: this step will create the 3d array <i>normalized_images</i>"
   ]
  },
  {
   "cell_type": "code",
   "execution_count": null,
   "id": "7b613711",
   "metadata": {},
   "outputs": [],
   "source": [
    "o_white_beam.normalization_settings()"
   ]
  },
  {
   "cell_type": "markdown",
   "id": "6af1d90a",
   "metadata": {},
   "source": [
    "This next cell will allow you to select the background region within the projections images, or will just be ignored if you not chose to use it.\n",
    "\n",
    "<font color='blue'><b>Instructions</b>: define ROI\n",
    "\n",
    "Make sure you select a region <font color='red'> OUTSIDE</font> of your sample\n",
    "\n",
    "<img src=\"__code/__all/demo_of_roi_selection.gif\" width=\"50%\" />\n",
    "\n",
    "NB: The next cell will be ignored if you didn't select <b>Use ROI</b>"
   ]
  },
  {
   "cell_type": "code",
   "execution_count": null,
   "id": "f57796df",
   "metadata": {},
   "outputs": [],
   "source": [
    "o_white_beam.normalization_select_roi()"
   ]
  },
  {
   "cell_type": "markdown",
   "id": "c4221eb9",
   "metadata": {},
   "source": [
    "This cell will perform the normalization using any of the settings you define just above."
   ]
  },
  {
   "cell_type": "code",
   "execution_count": null,
   "id": "48c201d4",
   "metadata": {},
   "outputs": [],
   "source": [
    "o_white_beam.normalization()"
   ]
  },
  {
   "cell_type": "markdown",
   "id": "97bf27d7",
   "metadata": {},
   "source": [
    "<hr style=\"height: 2px\" /><hr style=\"border-bottom: dotted 1px\" />\n",
    "<font color='purple' size='5'>Visualize normalized data</font><font color='purple' size='3'> - OPTIONAL</font>"
   ]
  },
  {
   "cell_type": "code",
   "execution_count": null,
   "id": "47d0df72",
   "metadata": {},
   "outputs": [],
   "source": [
    "o_white_beam.visualization_normalization_settings()"
   ]
  },
  {
   "cell_type": "code",
   "execution_count": null,
   "id": "13d7ca09",
   "metadata": {},
   "outputs": [],
   "source": [
    "o_white_beam.visualize_normalization()"
   ]
  },
  {
   "cell_type": "markdown",
   "id": "f3a39bda",
   "metadata": {},
   "source": [
    "<hr style=\"height: 2px\" /><hr style=\"border-bottom: dotted 1px\" />\n",
    "<font color='purple' size='5'>Export the normalized data</font><font color='purple' size='3'> - OPTIONAL</font>\n"
   ]
  },
  {
   "cell_type": "markdown",
   "id": "27baf325",
   "metadata": {},
   "source": [
    "Select the folder where to export the normalized images\n"
   ]
  },
  {
   "cell_type": "code",
   "execution_count": null,
   "id": "6fba499f",
   "metadata": {},
   "outputs": [],
   "source": [
    "o_white_beam.select_export_normalized_folder()"
   ]
  },
  {
   "cell_type": "markdown",
   "id": "e4a87503",
   "metadata": {},
   "source": [
    "Run this cell to execute the export of the normalized images\n"
   ]
  },
  {
   "cell_type": "code",
   "execution_count": null,
   "id": "a5b28e20",
   "metadata": {},
   "outputs": [],
   "source": [
    "o_white_beam.export_normalized_images()"
   ]
  },
  {
   "cell_type": "markdown",
   "id": "7447be6f",
   "metadata": {},
   "source": [
    "<hr style=\"height: 2px\" /><hr style=\"border-bottom: dotted 1px\" />\n",
    "<font color='purple' size='5'>Rebin pixels</font><font color='purple' size='3'> - OPTIONAL</font>\n",
    "\n",
    "<font size=1 color='red'><u>Developer Notes</u>: this step will update the 3d array <i>normalized_images</i></font>\n",
    "\n",
    "Select how you want to combine (bin) the pixels"
   ]
  },
  {
   "cell_type": "code",
   "execution_count": null,
   "id": "cc0a87cd",
   "metadata": {},
   "outputs": [],
   "source": [
    "o_white_beam.rebin_settings()"
   ]
  },
  {
   "cell_type": "markdown",
   "id": "258a9bbc",
   "metadata": {},
   "source": [
    "Perform the binning"
   ]
  },
  {
   "cell_type": "code",
   "execution_count": null,
   "id": "cabb36f4",
   "metadata": {},
   "outputs": [],
   "source": [
    "o_white_beam.rebin_after_normalization()"
   ]
  },
  {
   "cell_type": "markdown",
   "id": "46a06fda",
   "metadata": {},
   "source": [
    "<hr style=\"height: 2px\" /><hr style=\"border-bottom: dotted 1px\" />\n",
    "<font color='purple' size='5'>Visualize rebinned data</font><font color='purple' size='3'> - OPTIONAL</font>"
   ]
  },
  {
   "cell_type": "code",
   "execution_count": null,
   "id": "f422f769",
   "metadata": {},
   "outputs": [],
   "source": [
    "o_white_beam.visualization_normalization_settings()"
   ]
  },
  {
   "cell_type": "code",
   "execution_count": null,
   "id": "3d690652",
   "metadata": {},
   "outputs": [],
   "source": [
    "o_white_beam.visualize_rebinned_data()"
   ]
  },
  {
   "cell_type": "markdown",
   "id": "091b83d3",
   "metadata": {},
   "source": [
    "<hr style=\"height: 2px\" /><hr style=\"border-bottom: dotted 1px\" />\n",
    "<font color='purple' size='5'>Crop the data</font><font color='purple' size='3'> - OPTIONAL</font>\n",
    "\n",
    "<font size=1 color='red'><u>Developer Notes</u>: this step will update the 3d array <i>normalized_images</i>"
   ]
  },
  {
   "cell_type": "code",
   "execution_count": null,
   "id": "4747fdeb",
   "metadata": {},
   "outputs": [],
   "source": [
    "o_white_beam.crop_settings()"
   ]
  },
  {
   "cell_type": "markdown",
   "id": "6ff8fa92",
   "metadata": {},
   "source": [
    "execute the cropping"
   ]
  },
  {
   "cell_type": "code",
   "execution_count": null,
   "id": "ee5bda99",
   "metadata": {},
   "outputs": [],
   "source": [
    "o_white_beam.crop()"
   ]
  },
  {
   "cell_type": "markdown",
   "id": "148220ee",
   "metadata": {},
   "source": [
    "<hr style=\"height: 2px\" /><hr style=\"border-bottom: dotted 1px\" />\n",
    "<font color='purple' size='5'>Rotate the data</font><font color='purple' size='3'> - OPTIONAL</font>\n",
    "\n",
    "<font color='blue'>The reconstruction algorithm will ONLY work if the rotation axis is VERTICAL</font>!\n",
    "\n",
    "select the angle to use!\n",
    "\n",
    "<font size=1 color='red'><u>Developer Notes</u>: this step will update the 3d array <i>normalized_images_log</i>"
   ]
  },
  {
   "cell_type": "code",
   "execution_count": null,
   "id": "fb6ea64c",
   "metadata": {},
   "outputs": [],
   "source": [
    "o_white_beam.rotate_data_settings()"
   ]
  },
  {
   "cell_type": "markdown",
   "id": "2e94264c",
   "metadata": {},
   "source": [
    "Run to perform the transformation by the angle specified"
   ]
  },
  {
   "cell_type": "code",
   "execution_count": null,
   "id": "465287f8",
   "metadata": {},
   "outputs": [],
   "source": [
    "o_white_beam.apply_rotation()"
   ]
  },
  {
   "cell_type": "markdown",
   "id": "a5a7c6cc",
   "metadata": {},
   "source": [
    "<hr><hr style=\"border-bottom: dotted 1px;\" />\n",
    "<font color='purple' size='3'>Visualization</font><font color='purple' size='3'> - OPTIONAL</font>"
   ]
  },
  {
   "cell_type": "code",
   "execution_count": null,
   "id": "94d9eb0a",
   "metadata": {},
   "outputs": [],
   "source": [
    "o_white_beam.visualize_after_rotation()"
   ]
  },
  {
   "cell_type": "markdown",
   "id": "12470d0e",
   "metadata": {},
   "source": [
    "<hr style=\"border-bottom: dotted 1px;\" />\n",
    "<hr style=\"height: 2px\" />\n",
    "\n",
    "# <font color='red'>Minus log conversion</font>\n",
    "\n",
    "<font size=1 color='red'><u>Developer Notes</u>: this step will create the 3d array <i>normalized_images_log</i>"
   ]
  },
  {
   "cell_type": "code",
   "execution_count": null,
   "id": "f5f16a3f",
   "metadata": {},
   "outputs": [],
   "source": [
    "o_white_beam.log_conversion_and_cleaning()"
   ]
  },
  {
   "cell_type": "markdown",
   "id": "19228636",
   "metadata": {},
   "source": [
    "<hr><hr style=\"border-bottom: dotted 1px;\" />\n",
    "<font color='purple' size='3'>Visualization</font><font color='purple' size='3'> - OPTIONAL</font>\n"
   ]
  },
  {
   "cell_type": "code",
   "execution_count": null,
   "id": "37db0c00",
   "metadata": {},
   "outputs": [],
   "source": [
    "o_white_beam.visualize_images_after_log()"
   ]
  },
  {
   "cell_type": "markdown",
   "id": "739a9355",
   "metadata": {},
   "source": [
    "<hr style=\"height: 2px\" /><hr style=\"border-bottom: dotted 1px\" />\n",
    "<font color='purple' size='5'>Remove stripes</font><font color='purple' size='3'> - OPTIONAL</font>\n",
    "\n",
    "Run if you want to remove any stripes causing ring artifacs in the reconstruction\n",
    "\n",
    "<font size=1 color='red'><u>Developer Notes</u>: this step will update the 3d array <i>normalized_images_log</i>"
   ]
  },
  {
   "cell_type": "code",
   "execution_count": null,
   "id": "e6432b5b",
   "metadata": {},
   "outputs": [],
   "source": [
    "o_white_beam.select_remove_strips_algorithms()"
   ]
  },
  {
   "cell_type": "markdown",
   "id": "0a76a268",
   "metadata": {},
   "source": [
    "Define the settings for the algorithms you chose in the previous cell"
   ]
  },
  {
   "cell_type": "code",
   "execution_count": null,
   "id": "081d0e6b",
   "metadata": {},
   "outputs": [],
   "source": [
    "o_white_beam.define_settings()"
   ]
  },
  {
   "cell_type": "markdown",
   "id": "99f84eb5",
   "metadata": {},
   "source": [
    "Select when to perform the cleaning (if any)"
   ]
  },
  {
   "cell_type": "code",
   "execution_count": null,
   "id": "c0e70f9c",
   "metadata": {},
   "outputs": [],
   "source": [
    "o_white_beam.when_to_remove_strips()"
   ]
  },
  {
   "cell_type": "markdown",
   "id": "44057c6b",
   "metadata": {},
   "source": [
    "If you selected **in notebook**, the strips will be removed now. **Please be patient** as it may takes a while to perform (depending on how many algorithm you selected)"
   ]
  },
  {
   "cell_type": "code",
   "execution_count": null,
   "id": "75d3d677",
   "metadata": {},
   "outputs": [],
   "source": [
    "o_white_beam.remove_strips()"
   ]
  },
  {
   "cell_type": "markdown",
   "id": "e023f08d",
   "metadata": {},
   "source": [
    "<hr><hr style=\"border-bottom: dotted 1px;\" />\n",
    "<font color='purple' size='3'>Visualization</font><font color='purple' size='3'> - OPTIONAL</font>"
   ]
  },
  {
   "cell_type": "code",
   "execution_count": null,
   "id": "49eb26b7",
   "metadata": {},
   "outputs": [],
   "source": [
    "o_white_beam.display_removed_strips()"
   ]
  },
  {
   "cell_type": "markdown",
   "id": "51a27fed-4720-4e52-aa1a-6dbc8995ee46",
   "metadata": {
    "execution": {
     "iopub.execute_input": "2024-09-25T16:48:35.218331Z",
     "iopub.status.busy": "2024-09-25T16:48:35.218025Z",
     "iopub.status.idle": "2024-09-25T16:48:35.220484Z",
     "shell.execute_reply": "2024-09-25T16:48:35.220124Z",
     "shell.execute_reply.started": "2024-09-25T16:48:35.218314Z"
    }
   },
   "source": [
    "<hr style=\"height: 2px\" /><hr style=\"border-bottom: dotted 1px\" />\n",
    "<font color='purple' size='5'>Calculate and apply tilt correction</font><font color='purple' size='3'> - OPTIONAL</font>\n",
    "\n",
    "The algorithm will determine the 0 and 180 degrees runs and use those to calculate the <b>tilt</b> then apply it on the volume.\n",
    "<br><br>\n",
    "\n",
    "<font color='blue'><b>Instructions</b>: first, you need to select an vertical range contaning the sample\n",
    "\n",
    "<font color='blue'>TIPS</font> - Make sure the sample is within the range defined\n",
    "\n",
    "<font size=1 color='red'><u>Developer Notes</u>: this step will update the 3d array <i>normalized_images_log</i>"
   ]
  },
  {
   "cell_type": "code",
   "execution_count": null,
   "id": "25b6a401",
   "metadata": {},
   "outputs": [],
   "source": [
    "o_white_beam.select_sample_roi()"
   ]
  },
  {
   "cell_type": "markdown",
   "id": "9f285ab8",
   "metadata": {},
   "source": [
    "Perform the calculation of the tilt and apply it"
   ]
  },
  {
   "cell_type": "code",
   "execution_count": null,
   "id": "79a80bed",
   "metadata": {},
   "outputs": [],
   "source": [
    "o_white_beam.perform_tilt_correction()"
   ]
  },
  {
   "cell_type": "markdown",
   "id": "53226d74",
   "metadata": {},
   "source": [
    "<hr style=\"height: 2px\" /><hr style=\"border-bottom: dotted 1px\" />\n",
    "<font color='purple' size='5'>Calculate center of rotation</font><font color='purple' size='3'> - OPTIONAL</font>\n",
    "\n",
    "The algorithm will determine the 0 and 180 degrees runs and use those to calculate the <b>center of rotation</b> \n",
    "\n",
    "<font size=1 color='red'><u>Developer Notes</u>: this step will use the 3d array <i>normalized_images_log</i>"
   ]
  },
  {
   "cell_type": "code",
   "execution_count": null,
   "id": "398a4e94",
   "metadata": {},
   "outputs": [],
   "source": [
    "o_white_beam.center_of_rotation_settings()"
   ]
  },
  {
   "cell_type": "markdown",
   "id": "a8ea1bdf",
   "metadata": {},
   "source": [
    "Select the mode you want to use to calculate the **center of rotation**\n",
    "\n",
    "* **automatic mode** will use the [algotom](https://algotom.github.io) library\n",
    "* **manual mode** will let you figure out the center of rotation\n",
    "\n",
    "<font color=red>NB</font>: if you selected **automatic mode**, first, you will need to select the 180 or 360 degrees mode to use to estimate the center of rotation."
   ]
  },
  {
   "cell_type": "code",
   "execution_count": null,
   "id": "cdad4572",
   "metadata": {},
   "outputs": [],
   "source": [
    "o_white_beam.run_center_of_rotation()"
   ]
  },
  {
   "cell_type": "code",
   "execution_count": null,
   "id": "394d6234",
   "metadata": {},
   "outputs": [],
   "source": [
    "o_white_beam.record_center_of_rotation()"
   ]
  },
  {
   "cell_type": "markdown",
   "id": "c8eb88e2",
   "metadata": {},
   "source": [
    "<hr><hr style=\"border-bottom: dotted 1px;\" />\n",
    "<font color='purple' size='3'>Visualization</font><font color='purple' size='3'> - OPTIONAL</font>"
   ]
  },
  {
   "cell_type": "code",
   "execution_count": null,
   "id": "7e7035b1",
   "metadata": {},
   "outputs": [],
   "source": [
    "o_white_beam.display_center_of_rotation()"
   ]
  },
  {
   "cell_type": "markdown",
   "id": "af768a68",
   "metadata": {},
   "source": [
    "<hr style=\"height: 2px\" /><hr style=\"border-bottom: dotted 1px\" />\n",
    "<font color='purple' size='5'>Test reconstruction</font><font color='purple' size='3'> - OPTIONAL</font>\n",
    "\n",
    "<b>Select a couple of slices to use to reconstruct</b>. \n",
    "\n",
    "This will allow to test:\n",
    "- the reconstruction algorithm\n",
    "- the calculation of the center of rotation\n",
    "- tilt angle value\n",
    "- cleaning of the data (outlisers, stripes)\n",
    "- more ..."
   ]
  },
  {
   "cell_type": "code",
   "execution_count": null,
   "id": "c4824ce1",
   "metadata": {},
   "outputs": [],
   "source": [
    "o_white_beam.select_slices_to_use_to_test_reconstruction()"
   ]
  },
  {
   "cell_type": "markdown",
   "id": "4853ac1a",
   "metadata": {},
   "source": [
    "Perform the reconstruction on those slices"
   ]
  },
  {
   "cell_type": "code",
   "execution_count": null,
   "id": "6d2b79bb",
   "metadata": {},
   "outputs": [],
   "source": [
    "o_white_beam.run_reconstruction_of_slices_to_test()"
   ]
  },
  {
   "cell_type": "markdown",
   "id": "735faafb",
   "metadata": {},
   "source": [
    "<hr style=\"border-bottom: dotted 1px;\" /><hr style=\"height: 2px\" />"
   ]
  },
  {
   "cell_type": "markdown",
   "id": "a1760101",
   "metadata": {},
   "source": [
    "# <font color='red'>Select reconstruction method(s)</font>"
   ]
  },
  {
   "cell_type": "code",
   "execution_count": null,
   "id": "27b82979",
   "metadata": {},
   "outputs": [],
   "source": [
    "o_white_beam.select_reconstruction_method()"
   ]
  },
  {
   "cell_type": "markdown",
   "id": "f79fabc5-69d4-40a9-938d-43250c0cfd38",
   "metadata": {},
   "source": [
    "# <font color='red'>Set up reconstruction parameters</font>\n",
    "\n",
    "<font color='blue'><b>Instructions</b>: \n",
    "\n",
    "- define the reconstruction settings (keeping the <b>default values</b> is a good choice for novice users)</font>\n",
    "\n"
   ]
  },
  {
   "cell_type": "code",
   "execution_count": null,
   "id": "dd0e3924",
   "metadata": {},
   "outputs": [],
   "source": [
    "o_white_beam.reconstruction_settings()"
   ]
  },
  {
   "cell_type": "markdown",
   "id": "c20fb822",
   "metadata": {},
   "source": [
    "# <font color='red'>Create config file and export pre-processed images</font>\n",
    "\n",
    "* <b>config file</b> will be used in the next step (step1_####.json)\n",
    "* <b>log file</b> to check the full process up to here\n",
    "* <b>stack of projectons ready to be reconstructed</b>"
   ]
  },
  {
   "cell_type": "code",
   "execution_count": null,
   "id": "25c8afd3",
   "metadata": {},
   "outputs": [],
   "source": [
    "o_white_beam.select_export_extra_files()"
   ]
  },
  {
   "cell_type": "code",
   "execution_count": null,
   "id": "4db82b11",
   "metadata": {},
   "outputs": [],
   "source": [
    "o_white_beam.export_extra_files(prefix='step1')"
   ]
  },
  {
   "cell_type": "markdown",
   "id": "132b68ce",
   "metadata": {},
   "source": [
    "<hr style=\"border-bottom: dotted 1px;\" /><hr>"
   ]
  }
 ],
 "metadata": {
  "kernelspec": {
   "display_name": "svmbir_py310_micromamba",
   "language": "python",
   "name": "python3"
  },
  "language_info": {
   "codemirror_mode": {
    "name": "ipython",
    "version": 3
   },
   "file_extension": ".py",
   "mimetype": "text/x-python",
   "name": "python",
   "nbconvert_exporter": "python",
   "pygments_lexer": "ipython3",
   "version": "3.10.16"
  }
 },
 "nbformat": 4,
 "nbformat_minor": 5
}
