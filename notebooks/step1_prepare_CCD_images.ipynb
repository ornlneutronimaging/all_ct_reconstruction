{
 "cells": [
  {
   "cell_type": "code",
   "execution_count": 1,
   "id": "d537c2cb",
   "metadata": {
    "execution": {
     "iopub.execute_input": "2024-12-05T18:24:53.254626Z",
     "iopub.status.busy": "2024-12-05T18:24:53.254425Z",
     "iopub.status.idle": "2024-12-05T18:24:53.279596Z",
     "shell.execute_reply": "2024-12-05T18:24:53.279304Z",
     "shell.execute_reply.started": "2024-12-05T18:24:53.254610Z"
    }
   },
   "outputs": [
    {
     "data": {
      "text/html": [
       "\n",
       "<style type=\"text/css\">\n",
       ".jupyter-widgets select option {font-family: \"Lucida Console\", Monaco, monospace;}\n",
       ".jupyter-widgets select {width: 98%;}\n",
       "div.output_subarea {padding: 0px;}\n",
       "div.output_subarea > div {margin: 0.4em;}\n",
       "</style>\n"
      ],
      "text/plain": [
       "<IPython.core.display.HTML object>"
      ]
     },
     "metadata": {},
     "output_type": "display_data"
    },
    {
     "data": {
      "text/html": [
       "\n",
       "<style type=\"text/css\">\n",
       ".jupyter-widgets select option {font-family: \"Lucida Console\", Monaco, monospace;}\n",
       "div.output_subarea {padding: 0px;}\n",
       "div.output_subarea > div {margin: 0.4em;}\n",
       "</style>\n"
      ],
      "text/plain": [
       "<IPython.core.display.HTML object>"
      ]
     },
     "metadata": {},
     "output_type": "display_data"
    },
    {
     "data": {
      "text/html": [
       "\n",
       "                   <style>\n",
       "                   .result_label {\n",
       "                      font-style: bold;\n",
       "                      color: red;\n",
       "                      font-size: 18px;\n",
       "                   }\n",
       "                   </style>\n",
       "                   "
      ],
      "text/plain": [
       "<IPython.core.display.HTML object>"
      ]
     },
     "metadata": {},
     "output_type": "display_data"
    },
    {
     "data": {
      "application/vnd.jupyter.widget-view+json": {
       "model_id": "2f0d95a65aaf4138a7b194d71f4fac72",
       "version_major": 2,
       "version_minor": 0
      },
      "text/plain": [
       "VBox(children=(HBox(children=(Label(value='Select Instrument', layout=Layout(width='20%')), Select(layout=Layo…"
      ]
     },
     "metadata": {},
     "output_type": "display_data"
    },
    {
     "data": {
      "text/html": [
       "<style>\n",
       "\n",
       "/* The following CSS has been adapted from\n",
       "   http://nbviewer.ipython.org/github/ketch/teaching-numerics-with-notebooks/blob/master/Styling_notebooks.ipynb\n",
       "   by Aron Ahmadia and David Ketcheson and has been reused under CC BY 4.0\n",
       "   */\n",
       "\n",
       "/* main background */\n",
       "#site { \n",
       "    background: #888;\n",
       "    color: red; \n",
       "}\n",
       "\n",
       "div.container {\n",
       "    width: 100% ! important;\n",
       "}\n",
       "\n",
       "div.cell { /* set cell width to about 80 chars */\n",
       "    width: 95%;\n",
       "}\n",
       "\n",
       "div #notebook { /* centre the content */\n",
       "/*    background: #fff; /* white background for content */\n",
       "    background: blue;\n",
       "    width: 100%;\n",
       "    margin: auto;\n",
       "    padding-left: 1em;\n",
       "    padding-right: 1em;\n",
       "    background-image: url(\"tile_background.jpg\");\n",
       "}\n",
       "\n",
       "#notebook li { /* More space between bullet points */\n",
       "    margin-top:0.4em;\n",
       "}\n",
       "\n",
       "/* change background color of running cells */\n",
       "div.cell.code_cell.running {\n",
       "/*    background-color: rgba(164,188,194,.75); */\n",
       "    background-color: green;\n",
       "    border-width: 8px;\n",
       "    border-style: solid;\n",
       "    border-color: #111;\n",
       "}\n",
       "\n",
       "/* Put a solid color box around each cell and its output, visually linking them together */\n",
       "div.cell.code_cell {\n",
       "    background-color: rgba(164,188,194,.25); /* Continuum L Gray with alpha 0.25 */\n",
       "    border-radius: 10px; /* rounded borders */\n",
       "    padding: 1em;\n",
       "    margin-top: 1em;\n",
       "}\n",
       "\n",
       "div.text_cell_render{\n",
       "\tfont-family: Georgia, Times, 'Times New Roman', serif;\n",
       "    line-height: 110%;\n",
       "    font-size: 105%;\n",
       "    width: 95%;\n",
       "    margin-left: auto;\n",
       "    margin-right: auto;\n",
       "}\n",
       "\n",
       "\n",
       "/* Formatting for header cells */\n",
       ".text_cell_render h1 {\n",
       "\tfont-family: Arial, 'Helvetica Neue', Helvetica, sans-serif;\n",
       "    font-weight: 400;\n",
       "    font-size: 30pt;\n",
       "    line-height: 100%;\n",
       "    color: rgb(37,55,70); /* Continuum Blue*/\n",
       "    margin-bottom: 0.1em;\n",
       "    margin-top: 0.1em;\n",
       "    display: block;\n",
       "}\n",
       ".text_cell_render h2 {\n",
       "\tfont-family: Arial, 'Helvetica Neue', Helvetica, sans-serif;\n",
       "    font-weight: 700;\n",
       "    font-size: 22pt;\n",
       "    line-height: 100%;\n",
       "    color: rgb(37,55,70);\n",
       "    margin-bottom: 0.1em;\n",
       "    margin-top: 0.1em;\n",
       "    display: block;\n",
       "}\n",
       "\n",
       ".text_cell_render h3 {\n",
       "\tfont-family: Arial, 'Helvetica Neue', Helvetica, sans-serif;\n",
       "    margin-top:12px;\n",
       "    margin-bottom: 3px;\n",
       "    font-style: italic;\n",
       "    color: rgb(37, 55, 70);\n",
       "}\n",
       "\n",
       ".text_cell_render h4 {\n",
       "\tfont-family: Arial, 'Helvetica Neue', Helvetica, sans-serif;\n",
       "}\n",
       "\n",
       ".text_cell_render h5 {\n",
       "\tfont-family: Arial, 'Helvetica Neue', Helvetica, sans-serif;\n",
       "    font-weight: 300;\n",
       "    font-size: 14pt;\n",
       "    font-style: italic;\n",
       "    margin-bottom: .1em;\n",
       "    margin-top: 0.1em;\n",
       "    display: block;\n",
       "}\n",
       "\n",
       ".text_cell_render h6 {\n",
       "\tfont-family: Arial, 'Helvetica Neue', Helvetica, sans-serif;\n",
       "    font-weight: 300;\n",
       "    font-size: 10pt;\n",
       "    margin-bottom: 1px;\n",
       "    margin-top: 1px;\n",
       "}\n",
       "\n",
       ".CodeMirror{\n",
       "        font-family: \"PT Mono\", fixed;\n",
       "        font-size: 100%;\n",
       "}\n",
       "\n",
       "#notebook_panel { /* main background */\n",
       "    background-image: url(\"tile_background.jpg\");\n",
       "}\n",
       "</style>"
      ],
      "text/plain": [
       "<IPython.core.display.HTML object>"
      ]
     },
     "execution_count": 1,
     "metadata": {},
     "output_type": "execute_result"
    }
   ],
   "source": [
    "# this is using the hsnt kernel conda environment\n",
    "\n",
    "import warnings\n",
    "warnings.filterwarnings('ignore')\n",
    "%matplotlib inline\n",
    "\n",
    "from __code.step1_prepare_ccd_images import Step1PrepareCcdImages\n",
    "\n",
    "\n",
    "from __code import system\n",
    "\n",
    "system.System.select_working_dir(facility='SNS', instrument='VENUS', ipts='IPTS-33531')\n",
    "from __code.__all import custom_style\n",
    "custom_style.style()"
   ]
  },
  {
   "cell_type": "markdown",
   "id": "b9d745bd",
   "metadata": {},
   "source": [
    "# <font color='red'>Input sample folder</font>\n",
    "\n",
    "This folder will contains all the images (1 image per angle)\n",
    "\n",
    "<font color='blue'><b>Instructions</b>: select folder containing projections</font>"
   ]
  },
  {
   "cell_type": "code",
   "execution_count": 2,
   "id": "4521c25a",
   "metadata": {
    "execution": {
     "iopub.execute_input": "2024-12-05T18:26:23.445036Z",
     "iopub.status.busy": "2024-12-05T18:26:23.444820Z",
     "iopub.status.idle": "2024-12-05T18:26:23.452217Z",
     "shell.execute_reply": "2024-12-05T18:26:23.451790Z",
     "shell.execute_reply.started": "2024-12-05T18:26:23.445015Z"
    }
   },
   "outputs": [
    {
     "name": "stdout",
     "output_type": "stream",
     "text": [
      "logging file: /SNS/VENUS/shared/log/step1_prepare_ccd_images.log\n",
      "working_dir = '/SNS/VENUS/IPTS-33531'\n",
      "Top sample folder selected: /SNS/VENUS/IPTS-33531/shared/processed_data/truck_CT_data/\n"
     ]
    }
   ],
   "source": [
    "o_white_beam = Step1PrepareCcdImages(system=system)\n",
    "o_white_beam.select_top_sample_folder()"
   ]
  },
  {
   "cell_type": "markdown",
   "id": "5d532080",
   "metadata": {},
   "source": [
    "# <font color='red'>Input Open Beam (OB) folder</font>\n",
    "\n",
    "Select the images to use as OB\n",
    "\n",
    "<font color='blue'><b>Instructions</b>: select individual images</font>"
   ]
  },
  {
   "cell_type": "code",
   "execution_count": 3,
   "id": "51549f93",
   "metadata": {
    "execution": {
     "iopub.execute_input": "2024-12-05T18:26:24.310052Z",
     "iopub.status.busy": "2024-12-05T18:26:24.309775Z",
     "iopub.status.idle": "2024-12-05T18:26:24.313688Z",
     "shell.execute_reply": "2024-12-05T18:26:24.313307Z",
     "shell.execute_reply.started": "2024-12-05T18:26:24.310029Z"
    }
   },
   "outputs": [
    {
     "name": "stdout",
     "output_type": "stream",
     "text": [
      "top ob folder is: /SNS/VENUS/IPTS-33531/shared/processed_data/ob\n"
     ]
    }
   ],
   "source": [
    "o_white_beam.select_ob_images()"
   ]
  },
  {
   "cell_type": "markdown",
   "id": "de5a18df",
   "metadata": {},
   "source": [
    "# <font color='red'>Input Dark Current (DC) folder</font>\n",
    "\n",
    "Select the images to use as DC\n",
    "\n",
    "<font color='blue'><b>Instructions</b>: select individual images</font>"
   ]
  },
  {
   "cell_type": "code",
   "execution_count": 4,
   "id": "6cea9407",
   "metadata": {
    "execution": {
     "iopub.execute_input": "2024-12-05T18:26:24.688165Z",
     "iopub.status.busy": "2024-12-05T18:26:24.687923Z",
     "iopub.status.idle": "2024-12-05T18:26:24.690677Z",
     "shell.execute_reply": "2024-12-05T18:26:24.690342Z",
     "shell.execute_reply.started": "2024-12-05T18:26:24.688148Z"
    }
   },
   "outputs": [
    {
     "name": "stdout",
     "output_type": "stream",
     "text": [
      "top dc folder is: /SNS/VENUS/IPTS-33531/shared/processed_data/dc/45s\n"
     ]
    }
   ],
   "source": [
    "o_white_beam.select_dc_images()"
   ]
  },
  {
   "cell_type": "markdown",
   "id": "e2cd6952-7b00-42ff-ba57-ab86df6ace84",
   "metadata": {},
   "source": [
    "# <font color='red'>Define file naming schema</font>\n",
    "\n",
    "This is needed to extract the angle value from the images file name"
   ]
  },
  {
   "cell_type": "code",
   "execution_count": 5,
   "id": "ccadcdc2-56e0-4244-a805-6c9121094cde",
   "metadata": {
    "execution": {
     "iopub.execute_input": "2024-12-05T18:26:25.213788Z",
     "iopub.status.busy": "2024-12-05T18:26:25.213546Z",
     "iopub.status.idle": "2024-12-05T18:26:25.232567Z",
     "shell.execute_reply": "2024-12-05T18:26:25.232288Z",
     "shell.execute_reply.started": "2024-12-05T18:26:25.213770Z"
    }
   },
   "outputs": [
    {
     "data": {
      "application/vnd.jupyter.widget-view+json": {
       "model_id": "12bc57b677784c9686dd54c21b72afdb",
       "version_major": 2,
       "version_minor": 0
      },
      "text/plain": [
       "HBox(children=(HTML(value='<b>File name:</b>'), Label(value='image_178_000_178.tiff')))"
      ]
     },
     "metadata": {},
     "output_type": "display_data"
    },
    {
     "data": {
      "application/vnd.jupyter.widget-view+json": {
       "model_id": "708b5c8bc11b40b1a457f775d13b4d31",
       "version_major": 2,
       "version_minor": 0
      },
      "text/plain": [
       "HTML(value='<b>Check the 2 fields to use to determine the angle value (degree.minutes)!</b>')"
      ]
     },
     "metadata": {},
     "output_type": "display_data"
    },
    {
     "data": {
      "application/vnd.jupyter.widget-view+json": {
       "model_id": "29b7d09d126d4a9ead3bf40dd545a19a",
       "version_major": 2,
       "version_minor": 0
      },
      "text/plain": [
       "VBox(children=(Checkbox(value=False, description='image'), Checkbox(value=False, description='178'), Checkbox(…"
      ]
     },
     "metadata": {},
     "output_type": "display_data"
    },
    {
     "data": {
      "application/vnd.jupyter.widget-view+json": {
       "model_id": "486f48c17841489091e47921df4ccb51",
       "version_major": 2,
       "version_minor": 0
      },
      "text/plain": [
       "HTML(value=\"<font color='red'><b>ERROR</b>: Select 2 and only 2 checkboxes!</font>\")"
      ]
     },
     "metadata": {},
     "output_type": "display_data"
    },
    {
     "data": {
      "application/vnd.jupyter.widget-view+json": {
       "model_id": "3fe9edb188fe4c6ea6efd334c735715c",
       "version_major": 2,
       "version_minor": 0
      },
      "text/plain": [
       "HTML(value='<hr>')"
      ]
     },
     "metadata": {},
     "output_type": "display_data"
    },
    {
     "data": {
      "application/vnd.jupyter.widget-view+json": {
       "model_id": "7a929f29aeb24d938f3cd99e65bc6eab",
       "version_major": 2,
       "version_minor": 0
      },
      "text/plain": [
       "HBox(children=(Label(value='Angle value:'), Label(value='')))"
      ]
     },
     "metadata": {},
     "output_type": "display_data"
    }
   ],
   "source": [
    "o_white_beam.define_naming_schema()"
   ]
  },
  {
   "cell_type": "markdown",
   "id": "18872c74-db47-407c-8f85-62def1f98cce",
   "metadata": {},
   "source": [
    "# <font color='red'>Percentage of data to use </font>"
   ]
  },
  {
   "cell_type": "code",
   "execution_count": 6,
   "id": "f89c1640-7292-4852-8999-b9c4f946be50",
   "metadata": {
    "execution": {
     "iopub.execute_input": "2024-12-05T18:26:31.017244Z",
     "iopub.status.busy": "2024-12-05T18:26:31.016863Z",
     "iopub.status.idle": "2024-12-05T18:26:31.023081Z",
     "shell.execute_reply": "2024-12-05T18:26:31.022796Z",
     "shell.execute_reply.started": "2024-12-05T18:26:31.017213Z"
    }
   },
   "outputs": [
    {
     "data": {
      "application/vnd.jupyter.widget-view+json": {
       "model_id": "c9fdd18694b842818a0d13d2b1992fbb",
       "version_major": 2,
       "version_minor": 0
      },
      "text/plain": [
       "IntSlider(value=50, layout=Layout(width='100%'), min=1)"
      ]
     },
     "metadata": {},
     "output_type": "display_data"
    },
    {
     "data": {
      "application/vnd.jupyter.widget-view+json": {
       "model_id": "e02f5f8628aa4e4f8896defd98831da0",
       "version_major": 2,
       "version_minor": 0
      },
      "text/plain": [
       "Label(value='90 images will be used for the reconstruction')"
      ]
     },
     "metadata": {},
     "output_type": "display_data"
    }
   ],
   "source": [
    "o_white_beam.select_percentage_of_data_to_use()"
   ]
  },
  {
   "cell_type": "markdown",
   "id": "107d1050",
   "metadata": {},
   "source": [
    "# <font color='red'>Load data</font>"
   ]
  },
  {
   "cell_type": "markdown",
   "id": "666d5d89",
   "metadata": {},
   "source": [
    "This cell will load the data.\n",
    "\n",
    "- <font color=blue><b>White beam</b></font>:\n",
    "This step will add all the counts within a given run, making it feel like the data were acquired in white beam mode, loosing the time-of-flight (TOF) information.\n",
    "\n",
    "This step will also sort the runs by increasing angle value.\n",
    "\n",
    "<font size=1 color='red'><u>Developer Notes</u>: this step will create the following:\n",
    "- dictionary <i>master_3d_data_array</i>\n",
    "- <i>list_of_images</i> listing the tiff files)\n",
    "- <i>final_list_of_angles</i> and <i> final_list_of_angles_rad</i> with list of angles"
   ]
  },
  {
   "cell_type": "code",
   "execution_count": 7,
   "id": "0eee229f",
   "metadata": {
    "execution": {
     "iopub.execute_input": "2024-12-05T18:26:40.714369Z",
     "iopub.status.busy": "2024-12-05T18:26:40.714157Z",
     "iopub.status.idle": "2024-12-05T18:26:56.119983Z",
     "shell.execute_reply": "2024-12-05T18:26:56.119499Z",
     "shell.execute_reply.started": "2024-12-05T18:26:40.714355Z"
    }
   },
   "outputs": [],
   "source": [
    "o_white_beam.load_data()"
   ]
  },
  {
   "cell_type": "markdown",
   "id": "c45e1943",
   "metadata": {},
   "source": [
    "<hr><hr style=\"border-bottom: dotted 1px;\" />\n",
    "<font color='purple' size='5'>Visualization</font><font color='purple' size='3'> - OPTIONAL</font>\n",
    "\n",
    "Select the mode you want to use:\n",
    " - all images <b>(this may take a long time to process !)</b>\n",
    " - visual verification of raw, ob and dc"
   ]
  },
  {
   "cell_type": "code",
   "execution_count": null,
   "id": "1203e3e8",
   "metadata": {},
   "outputs": [],
   "source": [
    "o_white_beam.how_to_visualize()"
   ]
  },
  {
   "cell_type": "code",
   "execution_count": null,
   "id": "7214a9cb",
   "metadata": {
    "execution": {
     "iopub.execute_input": "2024-12-05T17:25:26.713030Z",
     "iopub.status.busy": "2024-12-05T17:25:26.712796Z",
     "iopub.status.idle": "2024-12-05T17:25:44.813489Z",
     "shell.execute_reply": "2024-12-05T17:25:44.813012Z",
     "shell.execute_reply.started": "2024-12-05T17:25:26.713010Z"
    }
   },
   "outputs": [],
   "source": [
    "o_white_beam.visualize_raw_data()"
   ]
  },
  {
   "cell_type": "markdown",
   "id": "47700d7a",
   "metadata": {},
   "source": [
    "<hr style=\"height: 2px\" /><hr style=\"border-bottom: dotted 1px\" />\n",
    "<font color='purple' size='5'>Crop the raw data</font><font color='purple' size='3'> - OPTIONAL</font>\n",
    "\n",
    "<font size=1 color='red'><u>Developer Notes</u>: this step will update the dictionary <i>master_3d_data_array</i>"
   ]
  },
  {
   "cell_type": "code",
   "execution_count": null,
   "id": "68e059bb",
   "metadata": {},
   "outputs": [],
   "source": [
    "o_white_beam.pre_processing_crop_settings()"
   ]
  },
  {
   "cell_type": "markdown",
   "id": "9d9620cf",
   "metadata": {},
   "source": [
    "execute the cropping"
   ]
  },
  {
   "cell_type": "code",
   "execution_count": 9,
   "id": "282ef9a6",
   "metadata": {},
   "outputs": [],
   "source": [
    "o_white_beam.pre_processing_crop()"
   ]
  },
  {
   "cell_type": "markdown",
   "id": "1d97e3d0",
   "metadata": {},
   "source": [
    "<hr style=\"height: 2px\" /><hr style=\"border-bottom: dotted 1px\" />\n",
    "<font color='purple' size='5'>Remove outliers</font><font color='purple' size='3'> - OPTIONAL</font>"
   ]
  },
  {
   "cell_type": "markdown",
   "id": "df329504",
   "metadata": {},
   "source": [
    "Three algorithms are provided:\n",
    "\n",
    "* using `in-house` method with histogram (remove dead pixels and abnormal very high counts)\n",
    "* using Tomopy `remove_outlier` method (remove high intensity bright spots)\n",
    "* using Scipy `gamma_filter` method\n",
    "\n",
    "<font color='blue'><b>Instructions</b>: select the algorithms you want to use.\n",
    "\n",
    "<font size=1 color='red'><u>Developer Notes</u>: this step will update the dictionary <i>master_3d_data_array</i>"
   ]
  },
  {
   "cell_type": "code",
   "execution_count": null,
   "id": "d6952c84",
   "metadata": {
    "execution": {
     "iopub.execute_input": "2024-12-05T18:27:24.140744Z",
     "iopub.status.busy": "2024-12-05T18:27:24.140513Z",
     "iopub.status.idle": "2024-12-05T18:27:24.146623Z",
     "shell.execute_reply": "2024-12-05T18:27:24.146340Z",
     "shell.execute_reply.started": "2024-12-05T18:27:24.140727Z"
    }
   },
   "outputs": [],
   "source": [
    "o_white_beam.clean_images_settings()"
   ]
  },
  {
   "cell_type": "markdown",
   "id": "0b4bdb84",
   "metadata": {},
   "source": [
    "The next cell will be ignored if you didn't select <b>histogram</b>. \n",
    "\n",
    "<font color='blue'><b>Instructions</b>: if using the <b>histogram</b> algorithm, by default, all the pixels found in the first and last bin are considered as **bad** pixels. You have the option to change those settings. </font>"
   ]
  },
  {
   "cell_type": "code",
   "execution_count": null,
   "id": "66e1f723",
   "metadata": {
    "execution": {
     "iopub.execute_input": "2024-12-05T18:27:31.754478Z",
     "iopub.status.busy": "2024-12-05T18:27:31.754254Z",
     "iopub.status.idle": "2024-12-05T18:27:31.756697Z",
     "shell.execute_reply": "2024-12-05T18:27:31.756390Z",
     "shell.execute_reply.started": "2024-12-05T18:27:31.754463Z"
    }
   },
   "outputs": [],
   "source": [
    "o_white_beam.clean_images_setup()"
   ]
  },
  {
   "cell_type": "markdown",
   "id": "9729952c",
   "metadata": {},
   "source": [
    "Launch the cleaning"
   ]
  },
  {
   "cell_type": "code",
   "execution_count": 12,
   "id": "694507be",
   "metadata": {
    "execution": {
     "iopub.execute_input": "2024-12-05T18:27:33.576092Z",
     "iopub.status.busy": "2024-12-05T18:27:33.575897Z",
     "iopub.status.idle": "2024-12-05T18:29:44.246990Z",
     "shell.execute_reply": "2024-12-05T18:29:44.246646Z",
     "shell.execute_reply.started": "2024-12-05T18:27:33.576077Z"
    }
   },
   "outputs": [],
   "source": [
    "o_white_beam.clean_images()"
   ]
  },
  {
   "cell_type": "markdown",
   "id": "cfe260fd",
   "metadata": {},
   "source": [
    "<hr><hr style=\"border-bottom: dotted 1px;\" />\n",
    "<font color='purple' size='5'>Visualization</font><font color='purple' size='3'> - OPTIONAL</font>\n",
    "\n",
    "Select the mode you want to use:\n",
    " - all images <b>(this may take a long time to process !)</b>\n",
    " - visual verification of raw, ob and dc"
   ]
  },
  {
   "cell_type": "markdown",
   "id": "7b4cf410",
   "metadata": {},
   "source": [
    "### How do you want to visualize the cleaned data?"
   ]
  },
  {
   "cell_type": "code",
   "execution_count": null,
   "id": "47942a96",
   "metadata": {},
   "outputs": [],
   "source": [
    "o_white_beam.how_to_visualize_after_cleaning()"
   ]
  },
  {
   "cell_type": "markdown",
   "id": "df0a33bf",
   "metadata": {},
   "source": [
    "Launch the visualization"
   ]
  },
  {
   "cell_type": "code",
   "execution_count": null,
   "id": "9185e09d",
   "metadata": {},
   "outputs": [],
   "source": [
    "o_white_beam.visualize_cleaned_data()"
   ]
  },
  {
   "cell_type": "markdown",
   "id": "7447be6f",
   "metadata": {},
   "source": [
    "<hr style=\"height: 2px\" /><hr style=\"border-bottom: dotted 1px\" />\n",
    "<font color='purple' size='5'>Rebin pixels</font><font color='purple' size='3'> - OPTIONAL</font>\n",
    "\n",
    "<font size=1 color='red'><u>Developer Notes</u>: this step will update the dictionary <i>master_3d_data_array</i></font>\n",
    "\n",
    "Select how you want to combine (bin) the pixels"
   ]
  },
  {
   "cell_type": "code",
   "execution_count": 8,
   "id": "cc0a87cd",
   "metadata": {},
   "outputs": [
    {
     "data": {
      "application/vnd.jupyter.widget-view+json": {
       "model_id": "62814cbb19074d37bfd6fb4577ebce38",
       "version_major": 2,
       "version_minor": 0
      },
      "text/plain": [
       "Label(value='Rebinning factor:')"
      ]
     },
     "metadata": {},
     "output_type": "display_data"
    },
    {
     "data": {
      "application/vnd.jupyter.widget-view+json": {
       "model_id": "31e652acf82e49868617cf16054d373a",
       "version_major": 2,
       "version_minor": 0
      },
      "text/plain": [
       "Dropdown(options=(2, 3, 4, 5, 6, 7, 8, 9), value=2)"
      ]
     },
     "metadata": {},
     "output_type": "display_data"
    }
   ],
   "source": [
    "o_white_beam.rebin_settings()"
   ]
  },
  {
   "cell_type": "markdown",
   "id": "258a9bbc",
   "metadata": {},
   "source": [
    "Perform the binning"
   ]
  },
  {
   "cell_type": "code",
   "execution_count": 9,
   "id": "cabb36f4",
   "metadata": {},
   "outputs": [
    {
     "name": "stderr",
     "output_type": "stream",
     "text": [
      "  0%|          | 0/3 [00:00<?, ?it/s]\n"
     ]
    },
    {
     "name": "stdout",
     "output_type": "stream",
     "text": [
      "\t_data_raw.shape = (9, 6422, 9600)\n",
      "\t(type(_data_raw) = <class 'numpy.ndarray'>\n",
      "\tblock_size = (1, 2, 2)\n",
      "\tdtype = dtype('uint16')\n"
     ]
    },
    {
     "ename": "TypeError",
     "evalue": "_mean_dispatcher() got multiple values for argument 'axis'",
     "output_type": "error",
     "traceback": [
      "\u001b[0;31m---------------------------------------------------------------------------\u001b[0m",
      "\u001b[0;31mTypeError\u001b[0m                                 Traceback (most recent call last)",
      "Cell \u001b[0;32mIn[9], line 1\u001b[0m\n\u001b[0;32m----> 1\u001b[0m \u001b[43mo_white_beam\u001b[49m\u001b[38;5;241;43m.\u001b[39;49m\u001b[43mrebin\u001b[49m\u001b[43m(\u001b[49m\u001b[43m)\u001b[49m\n",
      "File \u001b[0;32m/gpfs/neutronsfs/instruments/VENUS/shared/software/git/all_ct_reconstruction/notebooks/__code/step1_prepare_ccd_images.py:269\u001b[0m, in \u001b[0;36mStep1PrepareCcdImages.rebin\u001b[0;34m(self)\u001b[0m\n\u001b[1;32m    268\u001b[0m \u001b[38;5;28;01mdef\u001b[39;00m \u001b[38;5;21mrebin\u001b[39m(\u001b[38;5;28mself\u001b[39m):\n\u001b[0;32m--> 269\u001b[0m     \u001b[38;5;28;43mself\u001b[39;49m\u001b[38;5;241;43m.\u001b[39;49m\u001b[43mo_rebin\u001b[49m\u001b[38;5;241;43m.\u001b[39;49m\u001b[43mexecute_binning\u001b[49m\u001b[43m(\u001b[49m\u001b[43m)\u001b[49m\n",
      "File \u001b[0;32m/gpfs/neutronsfs/instruments/VENUS/shared/software/git/all_ct_reconstruction/notebooks/__code/workflow/rebin.py:39\u001b[0m, in \u001b[0;36mRebin.execute_binning\u001b[0;34m(self)\u001b[0m\n\u001b[1;32m     37\u001b[0m \u001b[38;5;28mprint\u001b[39m(\u001b[38;5;124mf\u001b[39m\u001b[38;5;124m\"\u001b[39m\u001b[38;5;130;01m\\t\u001b[39;00m\u001b[38;5;132;01m{\u001b[39;00mblock_size\u001b[38;5;250m \u001b[39m\u001b[38;5;132;01m= }\u001b[39;00m\u001b[38;5;124m\"\u001b[39m)\n\u001b[1;32m     38\u001b[0m \u001b[38;5;28mprint\u001b[39m(\u001b[38;5;124mf\u001b[39m\u001b[38;5;124m\"\u001b[39m\u001b[38;5;130;01m\\t\u001b[39;00m\u001b[38;5;132;01m{\u001b[39;00mdtype\u001b[38;5;250m \u001b[39m\u001b[38;5;132;01m= }\u001b[39;00m\u001b[38;5;124m\"\u001b[39m)\n\u001b[0;32m---> 39\u001b[0m _data_rebinned \u001b[38;5;241m=\u001b[39m \u001b[43mblock_reduce\u001b[49m\u001b[43m(\u001b[49m\u001b[43m_data_raw\u001b[49m\u001b[43m,\u001b[49m\u001b[43m \u001b[49m\n\u001b[1;32m     40\u001b[0m \u001b[43m                            \u001b[49m\u001b[43mblock_size\u001b[49m\u001b[38;5;241;43m=\u001b[39;49m\u001b[43mblock_size\u001b[49m\u001b[43m,\u001b[49m\u001b[43m \u001b[49m\n\u001b[1;32m     41\u001b[0m \u001b[43m                            \u001b[49m\u001b[43mfunc\u001b[49m\u001b[38;5;241;43m=\u001b[39;49m\u001b[38;5;28;43mself\u001b[39;49m\u001b[38;5;241;43m.\u001b[39;49m\u001b[43mrebinning_method\u001b[49m\u001b[43m,\u001b[49m\n\u001b[1;32m     42\u001b[0m \u001b[43m                            \u001b[49m\u001b[43mfunc_kwargs\u001b[49m\u001b[38;5;241;43m=\u001b[39;49m\u001b[43m{\u001b[49m\u001b[38;5;124;43m'\u001b[39;49m\u001b[38;5;124;43mdtype\u001b[39;49m\u001b[38;5;124;43m'\u001b[39;49m\u001b[43m:\u001b[49m\u001b[43m \u001b[49m\u001b[43mdtype\u001b[49m\u001b[43m}\u001b[49m\u001b[43m)\u001b[49m\n\u001b[1;32m     43\u001b[0m master_3d_data[_data_type] \u001b[38;5;241m=\u001b[39m _data_rebinned[:]\n\u001b[1;32m     44\u001b[0m logging\u001b[38;5;241m.\u001b[39minfo(\u001b[38;5;124mf\u001b[39m\u001b[38;5;124m\"\u001b[39m\u001b[38;5;130;01m\\r\u001b[39;00m\u001b[38;5;124mebinning data type: \u001b[39m\u001b[38;5;132;01m{\u001b[39;00m_data_type\u001b[38;5;132;01m}\u001b[39;00m\u001b[38;5;124m ... Done!\u001b[39m\u001b[38;5;124m\"\u001b[39m)\n",
      "File \u001b[0;32m~/.local/lib/python3.9/site-packages/skimage/measure/block.py:90\u001b[0m, in \u001b[0;36mblock_reduce\u001b[0;34m(image, block_size, func, cval, func_kwargs)\u001b[0m\n\u001b[1;32m     85\u001b[0m     image \u001b[38;5;241m=\u001b[39m np\u001b[38;5;241m.\u001b[39mpad(image, pad_width\u001b[38;5;241m=\u001b[39mpad_width, mode\u001b[38;5;241m=\u001b[39m\u001b[38;5;124m'\u001b[39m\u001b[38;5;124mconstant\u001b[39m\u001b[38;5;124m'\u001b[39m,\n\u001b[1;32m     86\u001b[0m                    constant_values\u001b[38;5;241m=\u001b[39mcval)\n\u001b[1;32m     88\u001b[0m blocked \u001b[38;5;241m=\u001b[39m view_as_blocks(image, block_size)\n\u001b[0;32m---> 90\u001b[0m \u001b[38;5;28;01mreturn\u001b[39;00m \u001b[43mfunc\u001b[49m\u001b[43m(\u001b[49m\u001b[43mblocked\u001b[49m\u001b[43m,\u001b[49m\u001b[43m \u001b[49m\u001b[43maxis\u001b[49m\u001b[38;5;241;43m=\u001b[39;49m\u001b[38;5;28;43mtuple\u001b[39;49m\u001b[43m(\u001b[49m\u001b[38;5;28;43mrange\u001b[39;49m\u001b[43m(\u001b[49m\u001b[43mimage\u001b[49m\u001b[38;5;241;43m.\u001b[39;49m\u001b[43mndim\u001b[49m\u001b[43m,\u001b[49m\u001b[43m \u001b[49m\u001b[43mblocked\u001b[49m\u001b[38;5;241;43m.\u001b[39;49m\u001b[43mndim\u001b[49m\u001b[43m)\u001b[49m\u001b[43m)\u001b[49m\u001b[43m,\u001b[49m\n\u001b[1;32m     91\u001b[0m \u001b[43m            \u001b[49m\u001b[38;5;241;43m*\u001b[39;49m\u001b[38;5;241;43m*\u001b[39;49m\u001b[43mfunc_kwargs\u001b[49m\u001b[43m)\u001b[49m\n",
      "File \u001b[0;32m<__array_function__ internals>:179\u001b[0m, in \u001b[0;36mmean\u001b[0;34m(*args, **kwargs)\u001b[0m\n",
      "\u001b[0;31mTypeError\u001b[0m: _mean_dispatcher() got multiple values for argument 'axis'"
     ]
    }
   ],
   "source": [
    "o_white_beam.rebin()"
   ]
  },
  {
   "cell_type": "markdown",
   "id": "ea14a6e5-5921-4ddc-97a4-6b5411e14d0d",
   "metadata": {
    "execution": {
     "iopub.execute_input": "2024-09-25T16:48:21.997748Z",
     "iopub.status.busy": "2024-09-25T16:48:21.997353Z",
     "iopub.status.idle": "2024-09-25T16:48:21.999893Z",
     "shell.execute_reply": "2024-09-25T16:48:21.999578Z",
     "shell.execute_reply.started": "2024-09-25T16:48:21.997731Z"
    }
   },
   "source": [
    "<hr style=\"border-bottom: dotted 1px;\" />\n",
    "<hr style=\"height: 2px\" />\n",
    "\n",
    "# <font color='red'>Normalization</font>\n"
   ]
  },
  {
   "cell_type": "markdown",
   "id": "622bc51f",
   "metadata": {},
   "source": [
    "<font color='blue'><b>Instructions</b>: in order to improve the normalization, you can turn ON/OFF any of the following \n",
    "\n",
    "- <font color=red><b>use proton charge</b></font>: that option will use the proton charge value requested for each runs and open beams and will bring them to the same value by applying a coefficient corector to the data.\n",
    "- <font color=red><b>use background region of interest (ROI)</b></font>: select a region that does not contain any part of the sample in order to match the counts with the same ROI of the open beam.</font>\n",
    "\n",
    "<font size=1 color='red'><u>Developer Notes</u>: this step will create the 3d array <i>normalized_images</i>"
   ]
  },
  {
   "cell_type": "code",
   "execution_count": null,
   "id": "7b613711",
   "metadata": {
    "execution": {
     "iopub.execute_input": "2024-12-05T18:31:19.084233Z",
     "iopub.status.busy": "2024-12-05T18:31:19.084004Z",
     "iopub.status.idle": "2024-12-05T18:31:19.089704Z",
     "shell.execute_reply": "2024-12-05T18:31:19.089431Z",
     "shell.execute_reply.started": "2024-12-05T18:31:19.084217Z"
    }
   },
   "outputs": [],
   "source": [
    "o_white_beam.normalization_settings()"
   ]
  },
  {
   "cell_type": "markdown",
   "id": "6af1d90a",
   "metadata": {},
   "source": [
    "This next cell will allow you to select the background region within the projections images, or will just be ignored if you not chose to use it.\n",
    "\n",
    "<font color='blue'><b>Instructions</b>: define ROI\n",
    "\n",
    "Make sure you select a region <font color='red'> OUTSIDE</font> of your sample\n",
    "\n",
    "<img src=\"__code/__all/demo_of_roi_selection.gif\" width=\"50%\" />\n",
    "\n",
    "NB: The next cell will be ignored if you didn't select <b>Use ROI</b>"
   ]
  },
  {
   "cell_type": "code",
   "execution_count": null,
   "id": "f57796df",
   "metadata": {
    "execution": {
     "iopub.execute_input": "2024-12-05T18:31:21.447046Z",
     "iopub.status.busy": "2024-12-05T18:31:21.446834Z",
     "iopub.status.idle": "2024-12-05T18:31:23.360770Z",
     "shell.execute_reply": "2024-12-05T18:31:23.360456Z",
     "shell.execute_reply.started": "2024-12-05T18:31:21.447031Z"
    }
   },
   "outputs": [],
   "source": [
    "o_white_beam.normalization_select_roi()"
   ]
  },
  {
   "cell_type": "markdown",
   "id": "c4221eb9",
   "metadata": {},
   "source": [
    "This cell will perform the normalization using any of the settings you define just above."
   ]
  },
  {
   "cell_type": "code",
   "execution_count": 15,
   "id": "48c201d4",
   "metadata": {
    "execution": {
     "iopub.execute_input": "2024-12-05T18:31:49.805463Z",
     "iopub.status.busy": "2024-12-05T18:31:49.805141Z",
     "iopub.status.idle": "2024-12-05T18:32:00.902439Z",
     "shell.execute_reply": "2024-12-05T18:32:00.901994Z",
     "shell.execute_reply.started": "2024-12-05T18:31:49.805448Z"
    }
   },
   "outputs": [],
   "source": [
    "o_white_beam.normalization()"
   ]
  },
  {
   "cell_type": "markdown",
   "id": "97bf27d7",
   "metadata": {},
   "source": [
    "<hr style=\"height: 2px\" /><hr style=\"border-bottom: dotted 1px\" />\n",
    "<font color='purple' size='5'>Visualize normalized data</font><font color='purple' size='3'> - OPTIONAL</font>"
   ]
  },
  {
   "cell_type": "code",
   "execution_count": null,
   "id": "47d0df72",
   "metadata": {},
   "outputs": [],
   "source": [
    "o_white_beam.visualization_normalization_settings()"
   ]
  },
  {
   "cell_type": "code",
   "execution_count": null,
   "id": "13d7ca09",
   "metadata": {},
   "outputs": [],
   "source": [
    "o_white_beam.visualize_normalization()"
   ]
  },
  {
   "cell_type": "markdown",
   "id": "f3a39bda",
   "metadata": {},
   "source": [
    "<hr style=\"height: 2px\" /><hr style=\"border-bottom: dotted 1px\" />\n",
    "<font color='purple' size='5'>Export the normalized data</font><font color='purple' size='3'> - OPTIONAL</font>\n"
   ]
  },
  {
   "cell_type": "markdown",
   "id": "27baf325",
   "metadata": {},
   "source": [
    "Select the folder where to export the normalized images\n"
   ]
  },
  {
   "cell_type": "code",
   "execution_count": null,
   "id": "6fba499f",
   "metadata": {},
   "outputs": [],
   "source": [
    "o_white_beam.select_export_normalized_folder()"
   ]
  },
  {
   "cell_type": "markdown",
   "id": "e4a87503",
   "metadata": {},
   "source": [
    "Run this cell to execute the export of the normalized images\n"
   ]
  },
  {
   "cell_type": "code",
   "execution_count": null,
   "id": "a5b28e20",
   "metadata": {},
   "outputs": [],
   "source": [
    "o_white_beam.export_normalized_images()"
   ]
  },
  {
   "cell_type": "markdown",
   "id": "091b83d3",
   "metadata": {},
   "source": [
    "<hr style=\"height: 2px\" /><hr style=\"border-bottom: dotted 1px\" />\n",
    "<font color='purple' size='5'>Crop the data</font><font color='purple' size='3'> - OPTIONAL</font>\n",
    "\n",
    "<font size=1 color='red'><u>Developer Notes</u>: this step will update the 3d array <i>normalized_images</i>"
   ]
  },
  {
   "cell_type": "code",
   "execution_count": null,
   "id": "4747fdeb",
   "metadata": {},
   "outputs": [],
   "source": [
    "o_white_beam.crop_settings()"
   ]
  },
  {
   "cell_type": "markdown",
   "id": "6ff8fa92",
   "metadata": {},
   "source": [
    "execute the cropping"
   ]
  },
  {
   "cell_type": "code",
   "execution_count": 17,
   "id": "ee5bda99",
   "metadata": {},
   "outputs": [],
   "source": [
    "o_white_beam.crop()"
   ]
  },
  {
   "cell_type": "markdown",
   "id": "148220ee",
   "metadata": {},
   "source": [
    "<hr style=\"height: 2px\" /><hr style=\"border-bottom: dotted 1px\" />\n",
    "<font color='purple' size='5'>Rotate the data</font><font color='purple' size='3'> - OPTIONAL</font>\n",
    "\n",
    "<font color='blue'>The reconstruction algorithm will ONLY work if the rotation axis is VERTICAL</font>!\n",
    "\n",
    "select the angle to use!\n",
    "\n",
    "<font size=1 color='red'><u>Developer Notes</u>: this step will update the 3d array <i>normalized_images_log</i>"
   ]
  },
  {
   "cell_type": "code",
   "execution_count": null,
   "id": "fb6ea64c",
   "metadata": {},
   "outputs": [],
   "source": [
    "o_white_beam.rotate_data_settings()"
   ]
  },
  {
   "cell_type": "markdown",
   "id": "2e94264c",
   "metadata": {},
   "source": [
    "Run to perform the transformation by the angle specified"
   ]
  },
  {
   "cell_type": "code",
   "execution_count": 19,
   "id": "465287f8",
   "metadata": {},
   "outputs": [],
   "source": [
    "o_white_beam.apply_rotation()"
   ]
  },
  {
   "cell_type": "markdown",
   "id": "a5a7c6cc",
   "metadata": {},
   "source": [
    "Vizualize the images after rotation - OPTIONAL"
   ]
  },
  {
   "cell_type": "code",
   "execution_count": null,
   "id": "94d9eb0a",
   "metadata": {},
   "outputs": [],
   "source": [
    "o_white_beam.visualize_after_rotation()"
   ]
  },
  {
   "cell_type": "markdown",
   "id": "12470d0e",
   "metadata": {},
   "source": [
    "<hr style=\"border-bottom: dotted 1px;\" />\n",
    "<hr style=\"height: 2px\" />\n",
    "\n",
    "# <font color='red'>Minus log conversion</font>\n",
    "\n",
    "<font size=1 color='red'><u>Developer Notes</u>: this step will create the 3d array <i>normalized_images_log</i>"
   ]
  },
  {
   "cell_type": "code",
   "execution_count": 21,
   "id": "f5f16a3f",
   "metadata": {},
   "outputs": [],
   "source": [
    "o_white_beam.log_conversion_and_cleaning()"
   ]
  },
  {
   "cell_type": "markdown",
   "id": "19228636",
   "metadata": {},
   "source": [
    "<hr><hr style=\"border-bottom: dotted 1px;\" />\n",
    "<font color='purple' size='3'>Visualization</font><font color='purple' size='3'> - OPTIONAL</font>\n"
   ]
  },
  {
   "cell_type": "code",
   "execution_count": null,
   "id": "37db0c00",
   "metadata": {},
   "outputs": [],
   "source": [
    "o_white_beam.visualize_images_after_log()"
   ]
  },
  {
   "cell_type": "markdown",
   "id": "739a9355",
   "metadata": {},
   "source": [
    "<hr style=\"height: 2px\" /><hr style=\"border-bottom: dotted 1px\" />\n",
    "<font color='purple' size='5'>Remove stripes</font><font color='purple' size='3'> - OPTIONAL</font>\n",
    "\n",
    "Run if you want to remove any stripes causing ring artifacs in the reconstruction\n",
    "\n",
    "<font size=1 color='red'><u>Developer Notes</u>: this step will update the 3d array <i>normalized_images_log</i>"
   ]
  },
  {
   "cell_type": "code",
   "execution_count": null,
   "id": "e6432b5b",
   "metadata": {
    "execution": {
     "iopub.execute_input": "2024-12-05T18:32:11.038341Z",
     "iopub.status.busy": "2024-12-05T18:32:11.038103Z",
     "iopub.status.idle": "2024-12-05T18:32:11.051493Z",
     "shell.execute_reply": "2024-12-05T18:32:11.051169Z",
     "shell.execute_reply.started": "2024-12-05T18:32:11.038317Z"
    }
   },
   "outputs": [],
   "source": [
    "o_white_beam.select_remove_strips_algorithms()"
   ]
  },
  {
   "cell_type": "markdown",
   "id": "0a76a268",
   "metadata": {},
   "source": [
    "Define the settings for the algorithms you chose in the previous cell"
   ]
  },
  {
   "cell_type": "code",
   "execution_count": null,
   "id": "081d0e6b",
   "metadata": {
    "execution": {
     "iopub.execute_input": "2024-12-05T18:32:12.502287Z",
     "iopub.status.busy": "2024-12-05T18:32:12.502081Z",
     "iopub.status.idle": "2024-12-05T18:32:12.506112Z",
     "shell.execute_reply": "2024-12-05T18:32:12.505808Z",
     "shell.execute_reply.started": "2024-12-05T18:32:12.502271Z"
    }
   },
   "outputs": [],
   "source": [
    "o_white_beam.define_settings()"
   ]
  },
  {
   "cell_type": "markdown",
   "id": "99f84eb5",
   "metadata": {},
   "source": [
    "perform the cleaning"
   ]
  },
  {
   "cell_type": "code",
   "execution_count": null,
   "id": "75d3d677",
   "metadata": {
    "execution": {
     "iopub.execute_input": "2024-12-05T18:32:12.902879Z",
     "iopub.status.busy": "2024-12-05T18:32:12.902644Z",
     "iopub.status.idle": "2024-12-05T18:33:06.620878Z",
     "shell.execute_reply": "2024-12-05T18:33:06.620448Z",
     "shell.execute_reply.started": "2024-12-05T18:32:12.902865Z"
    }
   },
   "outputs": [],
   "source": [
    "o_white_beam.remove_strips()"
   ]
  },
  {
   "cell_type": "markdown",
   "id": "e023f08d",
   "metadata": {},
   "source": [
    "<hr><hr style=\"border-bottom: dotted 1px;\" />\n",
    "<font color='purple' size='3'>Visualization</font><font color='purple' size='3'> - OPTIONAL</font>"
   ]
  },
  {
   "cell_type": "code",
   "execution_count": null,
   "id": "49eb26b7",
   "metadata": {},
   "outputs": [],
   "source": [
    "o_white_beam.display_removed_strips()"
   ]
  },
  {
   "cell_type": "markdown",
   "id": "51a27fed-4720-4e52-aa1a-6dbc8995ee46",
   "metadata": {
    "execution": {
     "iopub.execute_input": "2024-09-25T16:48:35.218331Z",
     "iopub.status.busy": "2024-09-25T16:48:35.218025Z",
     "iopub.status.idle": "2024-09-25T16:48:35.220484Z",
     "shell.execute_reply": "2024-09-25T16:48:35.220124Z",
     "shell.execute_reply.started": "2024-09-25T16:48:35.218314Z"
    }
   },
   "source": [
    "<hr style=\"height: 2px\" /><hr style=\"border-bottom: dotted 1px\" />\n",
    "<font color='purple' size='5'>Calculate and apply tilt correction</font><font color='purple' size='3'> - OPTIONAL</font>\n",
    "\n",
    "The algorithm will determine the 0 and 180 degrees runs and use those to calculate the <b>tilt</b> then apply it on the volume.\n",
    "<br><br>\n",
    "\n",
    "<font color='blue'><b>Instructions</b>: first, you need to select an vertical range contaning the sample\n",
    "\n",
    "<font color='blue'>TIPS</font> - Make sure the sample is within the range defined\n",
    "\n",
    "<font size=1 color='red'><u>Developer Notes</u>: this step will update the 3d array <i>normalized_images_log</i>"
   ]
  },
  {
   "cell_type": "code",
   "execution_count": null,
   "id": "25b6a401",
   "metadata": {
    "execution": {
     "iopub.execute_input": "2024-12-05T18:33:36.517562Z",
     "iopub.status.busy": "2024-12-05T18:33:36.516753Z",
     "iopub.status.idle": "2024-12-05T18:33:38.865474Z",
     "shell.execute_reply": "2024-12-05T18:33:38.865168Z",
     "shell.execute_reply.started": "2024-12-05T18:33:36.517542Z"
    }
   },
   "outputs": [],
   "source": [
    "o_white_beam.select_sample_roi()"
   ]
  },
  {
   "cell_type": "markdown",
   "id": "9f285ab8",
   "metadata": {},
   "source": [
    "Perform the calculation of the tilt and apply it"
   ]
  },
  {
   "cell_type": "code",
   "execution_count": null,
   "id": "79a80bed",
   "metadata": {},
   "outputs": [],
   "source": [
    "o_white_beam.perform_tilt_correction()"
   ]
  },
  {
   "cell_type": "markdown",
   "id": "53226d74",
   "metadata": {},
   "source": [
    "<hr style=\"height: 2px\" /><hr style=\"border-bottom: dotted 1px\" />\n",
    "<font color='purple' size='5'>Calculate center of rotation</font><font color='purple' size='3'> - OPTIONAL</font>\n",
    "\n",
    "The algorithm will determine the 0 and 180 degrees runs and use those to calculate the <b>center of rotation</b> \n",
    "\n",
    "<font size=1 color='red'><u>Developer Notes</u>: this step will use the 3d array <i>normalized_images_log</i>"
   ]
  },
  {
   "cell_type": "code",
   "execution_count": null,
   "id": "398a4e94",
   "metadata": {},
   "outputs": [],
   "source": [
    "o_white_beam.center_of_rotation_settings()"
   ]
  },
  {
   "cell_type": "markdown",
   "id": "a8ea1bdf",
   "metadata": {},
   "source": [
    "Select the mode you want to use to calculate the **center of rotation**\n",
    "\n",
    "* **automatic mode** will use the [algotom](https://algotom.github.io) library\n",
    "* **manual mode** will let you figure out the center of rotation\n",
    "\n",
    "<font color=red>NB</font>: if you selected **automatic mode**, first, you will need to select the 180 or 360 degrees mode to use to estimate the center of rotation."
   ]
  },
  {
   "cell_type": "code",
   "execution_count": null,
   "id": "cdad4572",
   "metadata": {},
   "outputs": [],
   "source": [
    "o_white_beam.run_center_of_rotation()"
   ]
  },
  {
   "cell_type": "code",
   "execution_count": 26,
   "id": "394d6234",
   "metadata": {},
   "outputs": [],
   "source": [
    "o_white_beam.perform_calculation_of_center_of_rotation()"
   ]
  },
  {
   "cell_type": "markdown",
   "id": "af768a68",
   "metadata": {},
   "source": [
    "<hr style=\"height: 2px\" /><hr style=\"border-bottom: dotted 1px\" />\n",
    "<font color='purple' size='5'>Test reconstruction</font><font color='purple' size='3'> - OPTIONAL</font>\n",
    "\n",
    "<b>Select a couple of slices to use to reconstruct</b>. \n",
    "\n",
    "This will allow to test:\n",
    "- the calculation of the center of rotation\n",
    "- tilt angle value\n",
    "- cleaning of the data (outlisers, stripes)\n",
    "- more ..."
   ]
  },
  {
   "cell_type": "code",
   "execution_count": null,
   "id": "c4824ce1",
   "metadata": {},
   "outputs": [],
   "source": [
    "o_white_beam.select_slices_to_use_to_test_reconstruction()"
   ]
  },
  {
   "cell_type": "markdown",
   "id": "4853ac1a",
   "metadata": {},
   "source": [
    "Perform the reconstruction on those slices"
   ]
  },
  {
   "cell_type": "code",
   "execution_count": null,
   "id": "6d2b79bb",
   "metadata": {},
   "outputs": [],
   "source": [
    "o_white_beam.run_reconstruction_of_slices_to_test()"
   ]
  },
  {
   "cell_type": "markdown",
   "id": "735faafb",
   "metadata": {},
   "source": [
    "<hr style=\"border-bottom: dotted 1px;\" /><hr style=\"height: 2px\" />"
   ]
  },
  {
   "cell_type": "markdown",
   "id": "a1760101",
   "metadata": {},
   "source": [
    "# <font color='red'>Select reconstruction method(s)</font>"
   ]
  },
  {
   "cell_type": "code",
   "execution_count": null,
   "id": "27b82979",
   "metadata": {},
   "outputs": [],
   "source": [
    "o_white_beam.select_reconstruction_method()"
   ]
  },
  {
   "cell_type": "markdown",
   "id": "f79fabc5-69d4-40a9-938d-43250c0cfd38",
   "metadata": {},
   "source": [
    "# <font color='red'>Set up reconstruction parameters</font>\n",
    "\n",
    "<font color='blue'><b>Instructions</b>: \n",
    "\n",
    "- define the reconstruction settings (keeping the <b>default values</b> is a good choice for novice users)</font>\n",
    "\n"
   ]
  },
  {
   "cell_type": "code",
   "execution_count": 30,
   "id": "dd0e3924",
   "metadata": {
    "execution": {
     "iopub.execute_input": "2024-12-05T18:38:29.680501Z",
     "iopub.status.busy": "2024-12-05T18:38:29.680061Z",
     "iopub.status.idle": "2024-12-05T18:38:29.844927Z",
     "shell.execute_reply": "2024-12-05T18:38:29.844601Z",
     "shell.execute_reply.started": "2024-12-05T18:38:29.680484Z"
    }
   },
   "outputs": [],
   "source": [
    "o_white_beam.reconstruction_settings()"
   ]
  },
  {
   "cell_type": "markdown",
   "id": "c20fb822",
   "metadata": {},
   "source": [
    "# <font color='red'>Create config file and export pre-processed images</font>\n",
    "\n",
    "* <b>config file</b> will be used in the next step (step1_####.json)\n",
    "* <b>log file</b> to check the full process up to here\n",
    "* <b>stack of projectons ready to be reconstructed</b>"
   ]
  },
  {
   "cell_type": "code",
   "execution_count": null,
   "id": "25c8afd3",
   "metadata": {
    "execution": {
     "iopub.execute_input": "2024-12-05T18:39:18.554486Z",
     "iopub.status.busy": "2024-12-05T18:39:18.554256Z",
     "iopub.status.idle": "2024-12-05T18:39:18.566463Z",
     "shell.execute_reply": "2024-12-05T18:39:18.566083Z",
     "shell.execute_reply.started": "2024-12-05T18:39:18.554471Z"
    }
   },
   "outputs": [],
   "source": [
    "o_white_beam.select_export_extra_files()"
   ]
  },
  {
   "cell_type": "code",
   "execution_count": null,
   "id": "4db82b11",
   "metadata": {
    "execution": {
     "iopub.execute_input": "2024-12-05T18:39:19.865585Z",
     "iopub.status.busy": "2024-12-05T18:39:19.865351Z",
     "iopub.status.idle": "2024-12-05T18:39:20.551223Z",
     "shell.execute_reply": "2024-12-05T18:39:20.550854Z",
     "shell.execute_reply.started": "2024-12-05T18:39:19.865568Z"
    }
   },
   "outputs": [],
   "source": [
    "o_white_beam.export_extra_files(prefix='step1')"
   ]
  },
  {
   "cell_type": "markdown",
   "id": "132b68ce",
   "metadata": {},
   "source": [
    "<hr style=\"border-bottom: dotted 1px;\" /><hr>"
   ]
  },
  {
   "cell_type": "code",
   "execution_count": null,
   "id": "4d1ae0e4",
   "metadata": {},
   "outputs": [],
   "source": []
  },
  {
   "cell_type": "code",
   "execution_count": null,
   "id": "8a039eb5",
   "metadata": {},
   "outputs": [],
   "source": []
  },
  {
   "cell_type": "code",
   "execution_count": null,
   "id": "84db465a",
   "metadata": {},
   "outputs": [],
   "source": []
  },
  {
   "cell_type": "code",
   "execution_count": null,
   "id": "62dea325",
   "metadata": {},
   "outputs": [],
   "source": []
  },
  {
   "cell_type": "code",
   "execution_count": 42,
   "id": "0e74e0e7",
   "metadata": {},
   "outputs": [],
   "source": [
    "import matplotlib.pyplot as plt"
   ]
  },
  {
   "cell_type": "code",
   "execution_count": null,
   "metadata": {},
   "outputs": [],
   "source": [
    "im = plt.imshow(o_white_beam.normalized_images_log[0,:,:], cmap='jet')\n",
    "plt.colorbar(im)"
   ]
  },
  {
   "cell_type": "code",
   "execution_count": null,
   "id": "fe1abacf",
   "metadata": {},
   "outputs": [],
   "source": [
    "o_white_beam.normalized_images_log.dtype"
   ]
  },
  {
   "cell_type": "code",
   "execution_count": null,
   "id": "00c66e81",
   "metadata": {},
   "outputs": [],
   "source": []
  }
 ],
 "metadata": {
  "kernelspec": {
   "display_name": "hsnt",
   "language": "python",
   "name": "python3"
  },
  "language_info": {
   "codemirror_mode": {
    "name": "ipython",
    "version": 3
   },
   "file_extension": ".py",
   "mimetype": "text/x-python",
   "name": "python",
   "nbconvert_exporter": "python",
   "pygments_lexer": "ipython3",
   "version": "3.9.20"
  }
 },
 "nbformat": 4,
 "nbformat_minor": 5
}
